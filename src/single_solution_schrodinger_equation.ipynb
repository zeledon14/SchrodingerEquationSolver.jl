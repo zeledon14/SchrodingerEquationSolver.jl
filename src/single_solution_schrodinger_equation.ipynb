{
 "cells": [
  {
   "cell_type": "code",
   "execution_count": 1,
   "metadata": {},
   "outputs": [
    {
     "name": "stderr",
     "output_type": "stream",
     "text": [
      "\u001b[32m\u001b[1m  Activating\u001b[22m\u001b[39m new project at `~/Desktop/physics_coding_projects/julia/SchrodingerEquationSolver/src/SchrodingerEquationSolver`\n"
     ]
    },
    {
     "data": {
      "text/plain": [
       "Main.SchrodingerEquationSolver"
      ]
     },
     "metadata": {},
     "output_type": "display_data"
    }
   ],
   "source": [
    "using Pkg\n",
    "Pkg.activate(\"SchrodingerEquationSolver\")\n",
    "include(\"SchrodingerEquationSolver.jl\")"
   ]
  },
  {
   "cell_type": "code",
   "execution_count": 3,
   "metadata": {},
   "outputs": [],
   "source": [
    "import .SchrodingerEquationSolver as ses\n",
    "import .ses.Grids as Grids\n",
    "import .ses.Potentials as Potentials\n",
    "import .ses.MathUtils as MathUtils\n",
    "import .ses.Hydrogen as Hydrogen\n",
    "import .ses.InitialConditions as InitialConditions\n",
    "import .ses.OneDSchrodingerEquationSolver as odses\n",
    "import .ses.EigenvalueFinders as EigenvalueFinders"
   ]
  },
  {
   "cell_type": "code",
   "execution_count": 4,
   "metadata": {},
   "outputs": [],
   "source": [
    "using Plots"
   ]
  },
  {
   "cell_type": "code",
   "execution_count": 5,
   "metadata": {},
   "outputs": [],
   "source": []
  },
  {
   "cell_type": "code",
   "execution_count": 10,
   "metadata": {},
   "outputs": [],
   "source": [
    "r_min::Float64=0.0;\n",
    "r_max::Float64=50.0;\n",
    "Z::Int64=2;\n",
    "l::Int64=0;"
   ]
  },
  {
   "cell_type": "code",
   "execution_count": 11,
   "metadata": {},
   "outputs": [],
   "source": [
    "#grid= Grids.uniform_grid(r_min, r_max, N);\n",
    "grid= ses.Grids.exponential_grid(r_max, Z);\n",
    "N::Int64=sizeof(grid)[1];"
   ]
  },
  {
   "cell_type": "code",
   "execution_count": 8,
   "metadata": {},
   "outputs": [],
   "source": [
    "v_colu= Potentials.coulomb_potential(Z, grid);\n",
    "v_angu= Potentials.angular_potential(l, grid);\n",
    "v_effe= v_colu; #+ v_angu;"
   ]
  },
  {
   "cell_type": "code",
   "execution_count": 9,
   "metadata": {},
   "outputs": [],
   "source": []
  },
  {
   "cell_type": "code",
   "execution_count": null,
   "metadata": {},
   "outputs": [],
   "source": [
    "ei= -2.01\n",
    "init_valu1_fwrd, init_valu2_fwrd,\n",
    "init_valu1_bwrd, init_valu2_bwrd =InitialConditions.atom(grid, ei, l);"
   ]
  },
  {
   "cell_type": "code",
   "execution_count": null,
   "metadata": {},
   "outputs": [],
   "source": [
    "u_merged, merge_value= odses.solver(ei,init_valu1_fwrd,init_valu2_fwrd, init_valu1_bwrd,\n",
    "init_valu2_bwrd, v_effe, grid);"
   ]
  },
  {
   "cell_type": "code",
   "execution_count": null,
   "metadata": {},
   "outputs": [],
   "source": [
    "plot!(grid, u_merged)\n",
    "plot!(size=(900,400))"
   ]
  },
  {
   "cell_type": "code",
   "execution_count": null,
   "metadata": {},
   "outputs": [],
   "source": []
  },
  {
   "cell_type": "code",
   "execution_count": null,
   "metadata": {},
   "outputs": [],
   "source": []
  },
  {
   "cell_type": "code",
   "execution_count": null,
   "metadata": {},
   "outputs": [],
   "source": []
  },
  {
   "cell_type": "code",
   "execution_count": null,
   "metadata": {},
   "outputs": [],
   "source": []
  },
  {
   "cell_type": "code",
   "execution_count": null,
   "metadata": {},
   "outputs": [],
   "source": []
  }
 ],
 "metadata": {
  "kernelspec": {
   "display_name": "Julia 1.8.2",
   "language": "julia",
   "name": "julia-1.8"
  },
  "language_info": {
   "file_extension": ".jl",
   "mimetype": "application/julia",
   "name": "julia",
   "version": "1.8.2"
  }
 },
 "nbformat": 4,
 "nbformat_minor": 2
}
