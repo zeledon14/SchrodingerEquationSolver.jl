{
 "cells": [
  {
   "cell_type": "markdown",
   "metadata": {
    "vscode": {
     "languageId": "julia"
    }
   },
   "source": [
    "# DFT atom"
   ]
  },
  {
   "cell_type": "code",
   "execution_count": 1,
   "metadata": {},
   "outputs": [
    {
     "name": "stderr",
     "output_type": "stream",
     "text": [
      "\u001b[32m\u001b[1m  Activating\u001b[22m\u001b[39m project at `~/Desktop/physics_coding_projects/julia/SchrodingerEquationSolver`\n",
      "\u001b[32m\u001b[1mPrecompiling\u001b[22m\u001b[39m SchrodingerEquationSolver\n",
      "\u001b[32m  ✓ \u001b[39mSchrodingerEquationSolver\n",
      "  1 dependency successfully precompiled in 4 seconds. 218 already precompiled.\n"
     ]
    }
   ],
   "source": [
    "using Pkg;\n",
    "Pkg.activate(\"../.\");\n",
    "\n",
    "using SchrodingerEquationSolver\n",
    "using SchrodingerEquationSolver: DFTAtom, AtomBasisSet\n",
    "using Plots\n",
    "using CSV\n",
    "using DataFrames\n",
    "using PrettyTables\n",
    "using Libxc"
   ]
  },
  {
   "cell_type": "code",
   "execution_count": 2,
   "metadata": {},
   "outputs": [],
   "source": [
    "arra= [2,6,8,10,14,18,36,54,86];"
   ]
  },
  {
   "cell_type": "code",
   "execution_count": null,
   "metadata": {},
   "outputs": [],
   "source": [
    "out = [DFTAtom.calculate_atomic_basis_set(Z) for Z in arra];"
   ]
  },
  {
   "cell_type": "code",
   "execution_count": null,
   "metadata": {},
   "outputs": [],
   "source": []
  },
  {
   "cell_type": "code",
   "execution_count": null,
   "metadata": {},
   "outputs": [],
   "source": []
  },
  {
   "cell_type": "code",
   "execution_count": null,
   "metadata": {},
   "outputs": [],
   "source": []
  },
  {
   "cell_type": "code",
   "execution_count": null,
   "metadata": {},
   "outputs": [],
   "source": [
    "using Pkg;\n",
    "Pkg.activate(\"../.\");\n",
    "\n",
    "using SchrodingerEquationSolver\n",
    "using SchrodingerEquationSolver: DFTAtom, Potentials, MathUtils, Hydrogen, InitialConditions,\n",
    "                                 OneDSchrodingerEquationSolver, OneDPoissonEquationSolver,\n",
    "                                 EigenvalueFinders, AtomBasisSet, Density, ExchangeCorrelation\n",
    "using Plots\n",
    "using CSV\n",
    "using DataFrames\n",
    "using PrettyTables\n",
    "using Libxc"
   ]
  },
  {
   "cell_type": "code",
   "execution_count": 2,
   "metadata": {},
   "outputs": [],
   "source": [
    "\n",
    "using PDFmerger\n",
    "using LaTeXStrings\n",
    "using Downloads  # for file deletion\n",
    "using Printf"
   ]
  },
  {
   "cell_type": "markdown",
   "metadata": {},
   "source": [
    "df_dft.\"0\"[3:end]"
   ]
  },
  {
   "cell_type": "code",
   "execution_count": 3,
   "metadata": {},
   "outputs": [],
   "source": [
    "#Define parameters and produce an exponential grid.\n",
    "r_max::Float64=50;#Max radius of space grid.\n",
    "Z::Int64=2; #Atomic number, also used as the charge of coulomb potential."
   ]
  },
  {
   "cell_type": "code",
   "execution_count": 16,
   "metadata": {},
   "outputs": [],
   "source": [
    "using JSON3"
   ]
  },
  {
   "cell_type": "code",
   "execution_count": 20,
   "metadata": {},
   "outputs": [],
   "source": [
    "file= open(joinpath(dirname(@__FILE__),\"../data/atom_number_name.json\"));\n",
    "atom_number_name= JSON3.read(file)[Z];"
   ]
  },
  {
   "cell_type": "code",
   "execution_count": 21,
   "metadata": {},
   "outputs": [
    {
     "data": {
      "text/plain": [
       "\"Helium\""
      ]
     },
     "execution_count": 21,
     "metadata": {},
     "output_type": "execute_result"
    }
   ],
   "source": [
    "atom_number_name"
   ]
  },
  {
   "cell_type": "code",
   "execution_count": 13,
   "metadata": {},
   "outputs": [],
   "source": [
    "df_dft=DataFrame(CSV.File(joinpath(\"/home/arturo_hernandez/Downloads/nist_dft_tables/dft_Z_$Z/$Z.csv\")));"
   ]
  },
  {
   "cell_type": "code",
   "execution_count": 14,
   "metadata": {},
   "outputs": [
    {
     "data": {
      "text/html": [
       "<div><div style = \"float: left;\"><span>7×6 DataFrame</span></div><div style = \"clear: both;\"></div></div><div class = \"data-frame\" style = \"overflow-x: scroll;\"><table class = \"data-frame\" style = \"margin-bottom: 6px;\"><thead><tr class = \"header\"><th class = \"rowNumber\" style = \"font-weight: bold; text-align: right;\">Row</th><th style = \"text-align: left;\">Column1</th><th style = \"text-align: left;\">0</th><th style = \"text-align: left;\">1</th><th style = \"text-align: left;\">2</th><th style = \"text-align: left;\">3</th><th style = \"text-align: left;\">4</th></tr><tr class = \"subheader headerLastRow\"><th class = \"rowNumber\" style = \"font-weight: bold; text-align: right;\"></th><th title = \"Int64\" style = \"text-align: left;\">Int64</th><th title = \"String7\" style = \"text-align: left;\">String7</th><th title = \"String15\" style = \"text-align: left;\">String15</th><th title = \"String31\" style = \"text-align: left;\">String31</th><th title = \"String15\" style = \"text-align: left;\">String15</th><th title = \"String15\" style = \"text-align: left;\">String15</th></tr></thead><tbody><tr><td class = \"rowNumber\" style = \"font-weight: bold; text-align: right;\">1</td><td style = \"text-align: right;\">0</td><td style = \"text-align: left;\">Energy</td><td style = \"text-align: left;\">LDA</td><td style = \"text-align: left;\">LSD</td><td style = \"text-align: left;\">RLDA</td><td style = \"text-align: left;\">ScRLDA</td></tr><tr><td class = \"rowNumber\" style = \"font-weight: bold; text-align: right;\">2</td><td style = \"text-align: right;\">1</td><td style = \"text-align: left;\">Etot =</td><td style = \"text-align: left;\">-2.834836</td><td style = \"text-align: left;\">-2.834836</td><td style = \"text-align: left;\">-2.834785</td><td style = \"text-align: left;\">-2.834785</td></tr><tr><td class = \"rowNumber\" style = \"font-weight: bold; text-align: right;\">3</td><td style = \"text-align: right;\">2</td><td style = \"text-align: left;\">Ekin =</td><td style = \"text-align: left;\">2.767922</td><td style = \"text-align: left;\">2.767922</td><td style = \"text-align: left;\">2.767773</td><td style = \"text-align: left;\">2.767751</td></tr><tr><td class = \"rowNumber\" style = \"font-weight: bold; text-align: right;\">4</td><td style = \"text-align: right;\">3</td><td style = \"text-align: left;\">Ecoul =</td><td style = \"text-align: left;\">1.996120</td><td style = \"text-align: left;\">1.996120</td><td style = \"text-align: left;\">1.996036</td><td style = \"text-align: left;\">1.996030</td></tr><tr><td class = \"rowNumber\" style = \"font-weight: bold; text-align: right;\">5</td><td style = \"text-align: right;\">4</td><td style = \"text-align: left;\">Eenuc =</td><td style = \"text-align: left;\">-6.625564</td><td style = \"text-align: left;\">-6.625564</td><td style = \"text-align: left;\">-6.625496</td><td style = \"text-align: left;\">-6.625471</td></tr><tr><td class = \"rowNumber\" style = \"font-weight: bold; text-align: right;\">6</td><td style = \"text-align: right;\">5</td><td style = \"text-align: left;\">Exc =</td><td style = \"text-align: left;\">-0.973314</td><td style = \"text-align: left;\">-0.973314</td><td style = \"text-align: left;\">-0.973098</td><td style = \"text-align: left;\">-0.973096</td></tr><tr><td class = \"rowNumber\" style = \"font-weight: bold; text-align: right;\">7</td><td style = \"text-align: right;\">6</td><td style = \"text-align: left;\">1s</td><td style = \"text-align: left;\">-0.570425</td><td style = \"text-align: left;\">-0.570425-0.570425</td><td style = \"text-align: left;\">-0.570345</td><td style = \"text-align: left;\">-0.570348</td></tr></tbody></table></div>"
      ],
      "text/latex": [
       "\\begin{tabular}{r|cccccc}\n",
       "\t& Column1 & 0 & 1 & 2 & 3 & 4\\\\\n",
       "\t\\hline\n",
       "\t& Int64 & String7 & String15 & String31 & String15 & String15\\\\\n",
       "\t\\hline\n",
       "\t1 & 0 & Energy & LDA & LSD & RLDA & ScRLDA \\\\\n",
       "\t2 & 1 & Etot = & -2.834836 & -2.834836 & -2.834785 & -2.834785 \\\\\n",
       "\t3 & 2 & Ekin = & 2.767922 & 2.767922 & 2.767773 & 2.767751 \\\\\n",
       "\t4 & 3 & Ecoul = & 1.996120 & 1.996120 & 1.996036 & 1.996030 \\\\\n",
       "\t5 & 4 & Eenuc = & -6.625564 & -6.625564 & -6.625496 & -6.625471 \\\\\n",
       "\t6 & 5 & Exc = & -0.973314 & -0.973314 & -0.973098 & -0.973096 \\\\\n",
       "\t7 & 6 & 1s & -0.570425 & -0.570425-0.570425 & -0.570345 & -0.570348 \\\\\n",
       "\\end{tabular}\n"
      ],
      "text/plain": [
       "\u001b[1m7×6 DataFrame\u001b[0m\n",
       "\u001b[1m Row \u001b[0m│\u001b[1m Column1 \u001b[0m\u001b[1m 0       \u001b[0m\u001b[1m 1         \u001b[0m\u001b[1m 2                  \u001b[0m\u001b[1m 3         \u001b[0m\u001b[1m 4         \u001b[0m\n",
       "     │\u001b[90m Int64   \u001b[0m\u001b[90m String7 \u001b[0m\u001b[90m String15  \u001b[0m\u001b[90m String31           \u001b[0m\u001b[90m String15  \u001b[0m\u001b[90m String15  \u001b[0m\n",
       "─────┼───────────────────────────────────────────────────────────────────────\n",
       "   1 │       0  Energy   LDA        LSD                 RLDA       ScRLDA\n",
       "   2 │       1  Etot =   -2.834836  -2.834836           -2.834785  -2.834785\n",
       "   3 │       2  Ekin =   2.767922   2.767922            2.767773   2.767751\n",
       "   4 │       3  Ecoul =  1.996120   1.996120            1.996036   1.996030\n",
       "   5 │       4  Eenuc =  -6.625564  -6.625564           -6.625496  -6.625471\n",
       "   6 │       5  Exc =    -0.973314  -0.973314           -0.973098  -0.973096\n",
       "   7 │       6  1s       -0.570425  -0.570425-0.570425  -0.570345  -0.570348"
      ]
     },
     "execution_count": 14,
     "metadata": {},
     "output_type": "execute_result"
    }
   ],
   "source": [
    "df_dft"
   ]
  },
  {
   "cell_type": "code",
   "execution_count": 4,
   "metadata": {},
   "outputs": [],
   "source": [
    "df_dft=DataFrame(CSV.File(joinpath(\"/home/arturo_hernandez/Downloads/nist_dft_tables/dft_Z_$Z/$Z.csv\")));\n",
    "# Extract first row as column names\n",
    "pdf_output=\"/home/arturo_hernandez/Desktop/physics_coding_projects/julia/SchrodingerEquationSolver/pdf_outputs/$Z.pdf\"\n",
    "col_names = Symbol.(collect(df_dft[1, :]));  # Convert strings to Symbols\n",
    "# Remove the first row and assign new column names\n",
    "df_dft = df_dft[2:end, :];\n",
    "rename!(df_dft, col_names);\n",
    "energy_target = Dict(zip(replace.(df_dft.Energy, \" =\" => \"\") , parse.(Float64, df_dft.LDA)));"
   ]
  },
  {
   "cell_type": "code",
   "execution_count": 5,
   "metadata": {},
   "outputs": [
    {
     "data": {
      "text/html": [
       "<div><div style = \"float: left;\"><span>6×6 DataFrame</span></div><div style = \"clear: both;\"></div></div><div class = \"data-frame\" style = \"overflow-x: scroll;\"><table class = \"data-frame\" style = \"margin-bottom: 6px;\"><thead><tr class = \"header\"><th class = \"rowNumber\" style = \"font-weight: bold; text-align: right;\">Row</th><th style = \"text-align: left;\">0</th><th style = \"text-align: left;\">Energy</th><th style = \"text-align: left;\">LDA</th><th style = \"text-align: left;\">LSD</th><th style = \"text-align: left;\">RLDA</th><th style = \"text-align: left;\">ScRLDA</th></tr><tr class = \"subheader headerLastRow\"><th class = \"rowNumber\" style = \"font-weight: bold; text-align: right;\"></th><th title = \"Int64\" style = \"text-align: left;\">Int64</th><th title = \"String7\" style = \"text-align: left;\">String7</th><th title = \"String15\" style = \"text-align: left;\">String15</th><th title = \"String31\" style = \"text-align: left;\">String31</th><th title = \"String15\" style = \"text-align: left;\">String15</th><th title = \"String15\" style = \"text-align: left;\">String15</th></tr></thead><tbody><tr><td class = \"rowNumber\" style = \"font-weight: bold; text-align: right;\">1</td><td style = \"text-align: right;\">1</td><td style = \"text-align: left;\">Etot =</td><td style = \"text-align: left;\">-2.834836</td><td style = \"text-align: left;\">-2.834836</td><td style = \"text-align: left;\">-2.834785</td><td style = \"text-align: left;\">-2.834785</td></tr><tr><td class = \"rowNumber\" style = \"font-weight: bold; text-align: right;\">2</td><td style = \"text-align: right;\">2</td><td style = \"text-align: left;\">Ekin =</td><td style = \"text-align: left;\">2.767922</td><td style = \"text-align: left;\">2.767922</td><td style = \"text-align: left;\">2.767773</td><td style = \"text-align: left;\">2.767751</td></tr><tr><td class = \"rowNumber\" style = \"font-weight: bold; text-align: right;\">3</td><td style = \"text-align: right;\">3</td><td style = \"text-align: left;\">Ecoul =</td><td style = \"text-align: left;\">1.996120</td><td style = \"text-align: left;\">1.996120</td><td style = \"text-align: left;\">1.996036</td><td style = \"text-align: left;\">1.996030</td></tr><tr><td class = \"rowNumber\" style = \"font-weight: bold; text-align: right;\">4</td><td style = \"text-align: right;\">4</td><td style = \"text-align: left;\">Eenuc =</td><td style = \"text-align: left;\">-6.625564</td><td style = \"text-align: left;\">-6.625564</td><td style = \"text-align: left;\">-6.625496</td><td style = \"text-align: left;\">-6.625471</td></tr><tr><td class = \"rowNumber\" style = \"font-weight: bold; text-align: right;\">5</td><td style = \"text-align: right;\">5</td><td style = \"text-align: left;\">Exc =</td><td style = \"text-align: left;\">-0.973314</td><td style = \"text-align: left;\">-0.973314</td><td style = \"text-align: left;\">-0.973098</td><td style = \"text-align: left;\">-0.973096</td></tr><tr><td class = \"rowNumber\" style = \"font-weight: bold; text-align: right;\">6</td><td style = \"text-align: right;\">6</td><td style = \"text-align: left;\">1s</td><td style = \"text-align: left;\">-0.570425</td><td style = \"text-align: left;\">-0.570425-0.570425</td><td style = \"text-align: left;\">-0.570345</td><td style = \"text-align: left;\">-0.570348</td></tr></tbody></table></div>"
      ],
      "text/latex": [
       "\\begin{tabular}{r|cccccc}\n",
       "\t& 0 & Energy & LDA & LSD & RLDA & ScRLDA\\\\\n",
       "\t\\hline\n",
       "\t& Int64 & String7 & String15 & String31 & String15 & String15\\\\\n",
       "\t\\hline\n",
       "\t1 & 1 & Etot = & -2.834836 & -2.834836 & -2.834785 & -2.834785 \\\\\n",
       "\t2 & 2 & Ekin = & 2.767922 & 2.767922 & 2.767773 & 2.767751 \\\\\n",
       "\t3 & 3 & Ecoul = & 1.996120 & 1.996120 & 1.996036 & 1.996030 \\\\\n",
       "\t4 & 4 & Eenuc = & -6.625564 & -6.625564 & -6.625496 & -6.625471 \\\\\n",
       "\t5 & 5 & Exc = & -0.973314 & -0.973314 & -0.973098 & -0.973096 \\\\\n",
       "\t6 & 6 & 1s & -0.570425 & -0.570425-0.570425 & -0.570345 & -0.570348 \\\\\n",
       "\\end{tabular}\n"
      ],
      "text/plain": [
       "\u001b[1m6×6 DataFrame\u001b[0m\n",
       "\u001b[1m Row \u001b[0m│\u001b[1m 0     \u001b[0m\u001b[1m Energy  \u001b[0m\u001b[1m LDA       \u001b[0m\u001b[1m LSD                \u001b[0m\u001b[1m RLDA      \u001b[0m\u001b[1m ScRLDA    \u001b[0m\n",
       "     │\u001b[90m Int64 \u001b[0m\u001b[90m String7 \u001b[0m\u001b[90m String15  \u001b[0m\u001b[90m String31           \u001b[0m\u001b[90m String15  \u001b[0m\u001b[90m String15  \u001b[0m\n",
       "─────┼─────────────────────────────────────────────────────────────────────\n",
       "   1 │     1  Etot =   -2.834836  -2.834836           -2.834785  -2.834785\n",
       "   2 │     2  Ekin =   2.767922   2.767922            2.767773   2.767751\n",
       "   3 │     3  Ecoul =  1.996120   1.996120            1.996036   1.996030\n",
       "   4 │     4  Eenuc =  -6.625564  -6.625564           -6.625496  -6.625471\n",
       "   5 │     5  Exc =    -0.973314  -0.973314           -0.973098  -0.973096\n",
       "   6 │     6  1s       -0.570425  -0.570425-0.570425  -0.570345  -0.570348"
      ]
     },
     "execution_count": 5,
     "metadata": {},
     "output_type": "execute_result"
    }
   ],
   "source": [
    "df_dft"
   ]
  },
  {
   "cell_type": "code",
   "execution_count": null,
   "metadata": {},
   "outputs": [],
   "source": []
  },
  {
   "cell_type": "code",
   "execution_count": 6,
   "metadata": {},
   "outputs": [
    {
     "name": "stdout",
     "output_type": "stream",
     "text": [
      "grid size 7358"
     ]
    }
   ],
   "source": [
    "\n",
    "#grid definition\n",
    "grid_stru= Grids.init_exponential_grid_structure(r_max, Z);\n",
    "N=grid_stru.N;\n",
    "print(\"grid size \", N)"
   ]
  },
  {
   "cell_type": "code",
   "execution_count": 7,
   "metadata": {},
   "outputs": [],
   "source": [
    "#Initialization of potentials and energies\n",
    "\n",
    "#Initializing coulomb potential due to nuclei charge.\n",
    "V_colu::Vector{Float64}= Potentials.coulomb_potential(Z, grid_stru.grid);\n",
    "#Initializing Hartree potential due to electron density. \n",
    "V_hartree::Vector{Float64}=zeros(Float64, N);\n",
    "#Initializing exchange potential.\n",
    "V_x::Vector{Float64}=zeros(Float64, N);\n",
    "#Initializing correlation potential.\n",
    "V_c::Vector{Float64}=zeros(Float64, N);\n",
    "#Initializing energy exchange potential.\n",
    "E_xp::Vector{Float64}=zeros(Float64, N);\n",
    "#Initializing energy correlation potential.\n",
    "E_cp::Vector{Float64}=zeros(Float64, N);\n",
    "#Initializing exchange + correlation potential.\n",
    "V_xcp::Vector{Float64}=zeros(Float64, N);\n",
    "#Initializing the density.\n",
    "density_in::Vector{Float64}= zeros(Float64, N);\n",
    "#Initializing total energy\n",
    "E_total::Float64=1.0;\n",
    "#Initializing total energy step before\n",
    "E_total_before::Float64=2.0;\n",
    "#Initializing energy from energy eigenvalues\n",
    "E_eigen::Float64=0.0;\n",
    "#Initializing exchange correlation potential value after integral\n",
    "V_xc::Float64= 0.0;\n",
    "#Initializing Hartree energy\n",
    "E_hartree::Float64= 0.0;\n",
    "#Initializing exchange energy\n",
    "E_x::Float64= 0.0;\n",
    "#Initializing correlation enrgy\n",
    "E_c::Float64= 0.0;\n",
    "\n",
    "E_kinetic::Float64= 0.0;\n",
    "#Initializing basis set data structure\n",
    "basis= AtomBasisSet.init_atom_basis_set(Z, grid_stru.grid);"
   ]
  },
  {
   "cell_type": "code",
   "execution_count": 8,
   "metadata": {},
   "outputs": [
    {
     "name": "stdout",
     "output_type": "stream",
     "text": [
      "1s\n",
      "-2.0\n"
     ]
    }
   ],
   "source": [
    "for i_orbi in basis.orbitals\n",
    "    println(i_orbi.name)\n",
    "    println(i_orbi.E)\n",
    "end"
   ]
  },
  {
   "cell_type": "code",
   "execution_count": 9,
   "metadata": {},
   "outputs": [],
   "source": [
    "\n",
    "\n",
    "#Energy minimization loop \n",
    "while abs(E_total - E_total_before) > 10.0e-8\n",
    "    E_eigen=0.0;\n",
    "    #Loop over every orbital to solve independent particle Schrodinger equation.\n",
    "    for i_orbi in basis.orbitals\n",
    "        #println(i_orbi.name)\n",
    "        #angular potential for l orbital\n",
    "        V_angu= Potentials.angular_potential(i_orbi.l, grid_stru.grid);\n",
    "        #Assemble effective potential.\n",
    "        V_effe= V_colu .+ V_angu .+ V_hartree .+ V_x .+ V_c;\n",
    "        V_effe_max= maximum(V_effe)\n",
    "        V_effe_min= minimum(V_effe)\n",
    "        #println(V_effe_max);\n",
    "        #println(V_effe_min);\n",
    "        energy_interval= EigenvalueFinders.guess_energy_interval(i_orbi.E, V_effe_max, V_effe_min);\n",
    "        #println(E_intervals);\n",
    "        E_grid= Grids.uniform_grid(energy_interval[1], energy_interval[2], 300); #List with the energy grid points.\n",
    "\n",
    "        E_intervals= EigenvalueFinders.find_eigenvalue_intervals(E_grid, V_effe, grid_stru,\n",
    "                    InitialConditions.atom_exponential_grid,\n",
    "                        OneDSchrodingerEquationSolver.solver_exponential_grid, numb_inter=1);\n",
    "        #println(E_intervals);\n",
    "        #print(\"here \")\n",
    "        u_temp, ei_temp= EigenvalueFinders.illinois_eigenvalue_finder(E_intervals[1], V_effe, \n",
    "        grid_stru,InitialConditions.atom_exponential_grid, \n",
    "        OneDSchrodingerEquationSolver.solver_exponential_grid ,\n",
    "        l=i_orbi.l);\n",
    "        #Update eigenvalue and eigenfunction in the basis set data structure.\n",
    "        i_orbi.E=ei_temp;\n",
    "        i_orbi.u=u_temp;\n",
    "        E_eigen+= i_orbi.occu*ei_temp;\n",
    "        #println(i_orbi.E)\n",
    "        #println(\"--------------------------------\")\n",
    "\n",
    "    end\n",
    "    #Update E_total_before from the E_total from the previous step.\n",
    "    E_total_before= float(E_total);\n",
    "    V_no_kinetic= V_colu .+ V_hartree .+ V_x .+ V_c;\n",
    "    #Calculate density with new basis set.\n",
    "    density_out= Density.calculate_density(basis);\n",
    "    #Smooth the density with linear mixing (combination) of the previous and current densities.\n",
    "    density_in= Density.linear_mixing(density_in, density_out, alpha=0.110);\n",
    "\n",
    "    #Solve Poisson equation to find the new Hartree potential.\n",
    "    V_hartree= OneDPoissonEquationSolver.solver_exponential_grid(Z, density_in, grid_stru);\n",
    "    #Calculate new exchange and correlation potentials.\n",
    "    V_x, E_xp, V_c, E_cp= ExchangeCorrelation.potentials(density_in);\n",
    "    #Add exchange and correlation potentials.\n",
    "    V_xcp= V_x .+ V_c;\n",
    "    #Integrals to calculate energy components.\n",
    "    E_kinetic= E_eigen - 4.0*pi*MathUtils.energy_integral_exponential_grid(grid_stru, density_in, V_no_kinetic);\n",
    "    #V_xc= 4.0*pi*MathUtils.energy_integral_exponential_grid(grid_stru, density_in, V_xcp)\n",
    "\n",
    "    E_hartree= 0.5*4.0*pi*MathUtils.energy_integral_exponential_grid(grid_stru, density_in, V_hartree);\n",
    "\n",
    "    E_x= 4.0*pi*MathUtils.energy_integral_exponential_grid(grid_stru, density_in, E_xp);\n",
    "\n",
    "    E_c= 4.0*pi*MathUtils.energy_integral_exponential_grid(grid_stru, density_in, E_cp);\n",
    "    E_colu= 4.0*pi*MathUtils.energy_integral_exponential_grid(grid_stru, density_in, V_colu);\n",
    "    #Calculate total energy.\n",
    "    E_total= E_kinetic + E_hartree + E_x + E_c + E_colu;\n",
    "\n",
    "    #println(E_total)\n",
    "    #println(\"*****************************************\")\n",
    "\n",
    "end\n",
    "#println(\"Ekin \", E_kinetic)\n",
    "#println(\"Ecoul \", E_hartree)\n",
    "#println(\"Exc \", (E_x + E_c))\n",
    "#println(\"Etot \", E_total)\n",
    "pred_energy_dict= Dict(\"Ekin\"=> E_kinetic, \"Exc\"=>(E_x + E_c),\n",
    "\"Ecoul\"=>E_hartree, \"Etot\"=>E_total)\n",
    "for i_orbi in basis.orbitals\n",
    "    merge!(pred_energy_dict, Dict(i_orbi.name => i_orbi.E))\n",
    "    #println(i_orbi.name)\n",
    "    #println(i_orbi.E)\n",
    "end\n",
    "\n"
   ]
  },
  {
   "cell_type": "code",
   "execution_count": null,
   "metadata": {},
   "outputs": [
    {
     "name": "stdout",
     "output_type": "stream",
     "text": [
      "✅ Successfully created /home/arturo_hernandez/Desktop/physics_coding_projects/julia/SchrodingerEquationSolver/pdf_outputs/2.pdf with table and orbital plots!\n"
     ]
    }
   ],
   "source": [
    "# Initialize arrays\n",
    "names = String[]\n",
    "E_pred = Float64[]\n",
    "E_targ = Float64[]\n",
    "\n",
    "for (key, value) in pred_energy_dict\n",
    "    push!(names, key)\n",
    "    push!(E_pred, value)\n",
    "    push!(E_targ, energy_target[key])\n",
    "end\n",
    "\n",
    "# Compute absolute differences and percentage error\n",
    "E_diff = abs.(E_pred .- E_targ)\n",
    "Perc_error = E_diff ./ E_targ\n",
    "\n",
    "# Create table rows as vectors of strings\n",
    "atom_header = [\"$(basis.Name)\", \"E in Hartree\", \"\", \"\", \"\"]\n",
    "header = [\"Name\", \"E NIST\", \"E pred\", \"|ΔE|\", \"|ΔE|/E NIST\"]\n",
    "data_rows = [atom_header,header]\n",
    "for (n, targ, pred, diff, perc) in zip(names, E_targ, E_pred, E_diff, Perc_error)\n",
    "    # Format each value nicely:\n",
    "    push!(data_rows, [ n,\n",
    "                        @sprintf(\"%10.6f\", targ),\n",
    "                        @sprintf(\"%10.6f\", pred),\n",
    "                        @sprintf(\"%8.6f\", diff),\n",
    "                        @sprintf(\"%12.6f\", perc)\n",
    "                      ])\n",
    "end\n",
    "\n",
    "# ----------------------------\n",
    "# Define table layout parameters\n",
    "# ----------------------------\n",
    "nrows = length(data_rows)     # number of rows (including header)\n",
    "ncols = length(header)        # number of columns\n",
    "\n",
    "# Define the horizontal boundaries for columns (you can adjust these widths)\n",
    "# For example, here we set 5 columns with different widths in arbitrary units.\n",
    "col_widths = [1.5, 2.5, 2.5, 2, 3]  # relative widths for each column\n",
    "# Compute cumulative positions\n",
    "col_x = [0.0]\n",
    "for w in col_widths\n",
    "    push!(col_x, col_x[end] + w)\n",
    "end\n",
    "total_width = col_x[end]\n",
    "\n",
    "# Each row will have a fixed height:\n",
    "row_height = 1.0\n",
    "total_height = nrows * row_height\n",
    "\n",
    "# ----------------------------\n",
    "# Create the plot that will serve as the table \"page\"\n",
    "# ----------------------------\n",
    "p_table = plot(xlim=(0, total_width), ylim=(0, total_height),\n",
    "    framestyle = :none,\n",
    "    legend = false,\n",
    "    grid = false,\n",
    "    xticks = false,\n",
    "    yticks = false,\n",
    "    size = (800, Int(50 * nrows))  # adjust size as needed\n",
    ")\n",
    "# Add the title at the top center\n",
    "\n",
    "\n",
    "# Draw horizontal lines (rows)\n",
    "for i in 0:nrows\n",
    "    plot!([0, total_width], [i * row_height, i * row_height], color = :black, lw = 1)\n",
    "end\n",
    "\n",
    "# Draw vertical lines (columns)\n",
    "for x in col_x\n",
    "    plot!([x, x], [0, total_height], color = :black, lw = 1)\n",
    "end\n",
    "\n",
    "# Annotate each cell with the cell text (we assume center alignment in each cell)\n",
    "for (i, row) in enumerate(reverse(data_rows))  # reverse so that first row is at the top\n",
    "    y_center = (i - 0.5) * row_height  # center of the row cell\n",
    "    for j in 1:ncols\n",
    "        # Calculate the x-center for column j (between col_x[j] and col_x[j+1])\n",
    "        x_center = (col_x[j] + col_x[j+1]) / 2\n",
    "        text_str = row[j]\n",
    "        annotate!(p_table, x_center, y_center, text(text_str, 12, :center))\n",
    "    end\n",
    "end\n",
    "\n",
    "# Save the table as a PDF\n",
    "table_page_file=\"table_page.pdf\"\n",
    "savefig(p_table, table_page_file)\n",
    "\n",
    "orbital_files = String[]\n",
    "\n",
    "for i_orbi in basis.orbitals\n",
    "    orbi_eigen = @sprintf(\"%.4f\", i_orbi.E)\n",
    "    plot_str = \"Orbital $(i_orbi.name) eigen energy $orbi_eigen\"\n",
    "\n",
    "    p_orbi = plot(\n",
    "        grid_stru.grid_i, i_orbi.u,\n",
    "        title = plot_str,\n",
    "        xlabel = \"i\", ylabel = \"u(r(i))\",\n",
    "        legend = false\n",
    "    )\n",
    "\n",
    "    orbital_file = \"orbital_$(i_orbi.name).pdf\"\n",
    "    savefig(p_orbi, orbital_file)\n",
    "    push!(orbital_files, orbital_file)\n",
    "end\n",
    "\n",
    "\n",
    "\n",
    "all_files = [table_page_file; orbital_files...]\n",
    "final_pdf = pdf_output#\"file.pdf\"  # Final output file\n",
    "merge_pdfs(all_files, final_pdf)\n",
    "\n",
    "\n",
    "\n",
    "for f in all_files\n",
    "    try\n",
    "        rm(f)\n",
    "    catch e\n",
    "        @warn \"Could not delete file $f\" exception=(e, catch_backtrace())\n",
    "    end\n",
    "end\n",
    "\n",
    "#println(\"✅ Successfully created $final_pdf with table and orbital plots!\")"
   ]
  },
  {
   "cell_type": "code",
   "execution_count": null,
   "metadata": {},
   "outputs": [],
   "source": []
  },
  {
   "cell_type": "code",
   "execution_count": null,
   "metadata": {},
   "outputs": [],
   "source": []
  },
  {
   "cell_type": "code",
   "execution_count": null,
   "metadata": {},
   "outputs": [],
   "source": []
  },
  {
   "cell_type": "code",
   "execution_count": null,
   "metadata": {},
   "outputs": [],
   "source": []
  },
  {
   "cell_type": "code",
   "execution_count": null,
   "metadata": {},
   "outputs": [],
   "source": []
  },
  {
   "cell_type": "code",
   "execution_count": null,
   "metadata": {},
   "outputs": [],
   "source": []
  },
  {
   "cell_type": "code",
   "execution_count": null,
   "metadata": {},
   "outputs": [],
   "source": []
  },
  {
   "cell_type": "code",
   "execution_count": null,
   "metadata": {},
   "outputs": [],
   "source": []
  },
  {
   "cell_type": "code",
   "execution_count": null,
   "metadata": {},
   "outputs": [],
   "source": []
  },
  {
   "cell_type": "code",
   "execution_count": null,
   "metadata": {},
   "outputs": [],
   "source": []
  }
 ],
 "metadata": {
  "kernelspec": {
   "display_name": "Julia 1.10.6",
   "language": "julia",
   "name": "julia-1.10"
  },
  "language_info": {
   "file_extension": ".jl",
   "mimetype": "application/julia",
   "name": "julia",
   "version": "1.10.6"
  }
 },
 "nbformat": 4,
 "nbformat_minor": 2
}
