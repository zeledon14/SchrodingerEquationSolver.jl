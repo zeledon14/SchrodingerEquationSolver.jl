{
 "cells": [
  {
   "cell_type": "markdown",
   "metadata": {
    "vscode": {
     "languageId": "julia"
    }
   },
   "source": [
    "# DFT atom"
   ]
  },
  {
   "cell_type": "code",
   "execution_count": 1,
   "metadata": {},
   "outputs": [],
   "source": [
    "using Pkg;\n",
    "Pkg.activate(\"../../SchrodingerEquationSolver\");\n",
    "include(\"../src/SchrodingerEquationSolver.jl\");\n",
    "import .SchrodingerEquationSolver as ses\n",
    "import .ses.Grids as Grids\n",
    "import .ses.Potentials as Potentials\n",
    "import .ses.MathUtils as MathUtils\n",
    "import .ses.Hydrogen as Hydrogen\n",
    "import .ses.InitialConditions as InitialConditions\n",
    "import .ses.OneDSchrodingerEquationSolver as odses\n",
    "import .ses.OneDPoissonEquationSolver as odpes\n",
    "import .ses.EigenvalueFinders as EigenvalueFinders\n",
    "import .ses.AtomBasisSet as AtomBasisSet\n",
    "import .ses.Density as Density\n",
    "import .ses.ExchangeCorrelation as ExchangeCorrelation\n",
    "using Plots"
   ]
  },
  {
   "cell_type": "code",
   "execution_count": 2,
   "metadata": {},
   "outputs": [],
   "source": [
    "#Define parameters and produce an exponential grid.\n",
    "r_max::Float64=50.0;#Max radius of space grid.\n",
    "Z::Int64=6;#Atomic number, also used as the charge of coulomb potential."
   ]
  },
  {
   "cell_type": "code",
   "execution_count": 4,
   "metadata": {},
   "outputs": [
    {
     "name": "stdout",
     "output_type": "stream",
     "text": [
      "grid size 20534"
     ]
    }
   ],
   "source": [
    "\n",
    "\n",
    "grid= ses.Grids.exponential_grid(r_max, Z);\n",
    "grid_sqrt= grid.^2.0; \n",
    "N= size(grid)[1]; #Number of points in the grid.\n",
    "print(\"grid size \", N)"
   ]
  },
  {
   "cell_type": "code",
   "execution_count": 5,
   "metadata": {},
   "outputs": [],
   "source": [
    "#Initialization of potentials and energies\n",
    "\n",
    "#Initializing coulomb potential due to nuclei charge.\n",
    "V_colu::Vector{Float64}= Potentials.coulomb_potential(Z, grid);\n",
    "#Initializing Hartree potential due to electron density. \n",
    "V_hartree::Vector{Float64}=zeros(Float64, N);\n",
    "#Initializing exchange potential.\n",
    "V_x::Vector{Float64}=zeros(Float64, N);\n",
    "#Initializing correlation potential.\n",
    "V_c::Vector{Float64}=zeros(Float64, N);\n",
    "#Initializing energy exchange potential.\n",
    "E_xp::Vector{Float64}=zeros(Float64, N);\n",
    "#Initializing energy correlation potential.\n",
    "E_cp::Vector{Float64}=zeros(Float64, N);\n",
    "#Initializing exchange + correlation potential.\n",
    "V_xcp::Vector{Float64}=zeros(Float64, N);\n",
    "#Initializing the density.\n",
    "density_in::Vector{Float64}= zeros(Float64, N);\n",
    "#Initializing total energy\n",
    "E_total::Float64=1.0;\n",
    "#Initializing total energy step before\n",
    "E_total_before::Float64=2.0;\n",
    "#Initializing energy from energy eigenvalues\n",
    "E_eigen::Float64=0.0;\n",
    "#Initializing exchange correlation potential value after integral\n",
    "V_xc::Float64= 0.0;\n",
    "#Initializing Hartree energy\n",
    "E_hartree::Float64= 0.0;\n",
    "#Initializing exchange energy\n",
    "E_x::Float64= 0.0;\n",
    "#Initializing correlation enrgy\n",
    "E_c::Float64= 0.0;\n",
    "#Initializing basis set data structure\n",
    "basis= AtomBasisSet.init_atom_basis_set(Z, grid);"
   ]
  },
  {
   "cell_type": "code",
   "execution_count": 6,
   "metadata": {},
   "outputs": [
    {
     "name": "stdout",
     "output_type": "stream",
     "text": [
      "E_hartree 65.7299981378782\n",
      "E_x + E_c -11.710852030068363\n",
      "E_total -128.2334955045276\n"
     ]
    }
   ],
   "source": [
    "#Energy minimization loop \n",
    "while abs(E_total - E_total_before) > 10.0e-12\n",
    "    E_eigen=0.0;\n",
    "    #Loop over every orbital to solve independent particle Schrodinger equation.\n",
    "    for i_orbi in basis.orbitals\n",
    "        #angular potential for l orbital\n",
    "        V_angu= Potentials.angular_potential(i_orbi.l, grid);\n",
    "        #Assemble effective potential.\n",
    "        V_effe= V_colu .+ V_angu .+ V_hartree .+ V_x .+ V_c;\n",
    "        #Energy grid to search for new eigenvalue, search around the previous eigenvalue.\n",
    "        E_grid= Grids.uniform_grid(i_orbi.E - 0.5*i_orbi.E, i_orbi.E + 0.5*i_orbi.E, 250);\n",
    "        #Find the energy intervals with potential eigenvalues.\n",
    "        E_intervals, bad_intervals= EigenvalueFinders.find_eigenvalue_intervals(E_grid, V_effe,\n",
    "                                                        grid,InitialConditions.atom, l=i_orbi.l);\n",
    "        #Search for a solution to the independent particle Schrodinger equation for the first energy interval, \n",
    "        #there should be only one interval. Any other interval would be of a higher energy.\n",
    "        u_temp, ei_temp= EigenvalueFinders.illinois_eigenvalue_finder(E_intervals[1], V_effe, grid,InitialConditions.atom);\n",
    "        #Update eigenvalue and eigenfunction in the basis set data structure.\n",
    "        i_orbi.E=ei_temp;\n",
    "        i_orbi.u=u_temp;\n",
    "        E_eigen+= i_orbi.occu*ei_temp;\n",
    "\n",
    "    end\n",
    "    #Update E_total_before from the E_total from the previous step.\n",
    "    E_total_before= float(E_total);\n",
    "    #Calculate density with new basis set.\n",
    "    density_out= Density.calculate_density(basis);\n",
    "    #Smooth the density with linear mixing (combination) of the previous and current densities.\n",
    "    density_in= Density.linear_mixing(density_in, density_out, alpha=0.25);\n",
    "    #Solve Poisson equation to find the new Hartree potential.\n",
    "    V_hartree= odpes.solver(Z, density_in, grid);\n",
    "    #Calculate new exchange and correlation potentials.\n",
    "    V_x, E_xp, V_c, E_cp= ExchangeCorrelation.potentials(density_in);\n",
    "    #Add exchange and correlation potentials.\n",
    "    V_xcp= V_x .+ V_c;\n",
    "    #Integrals to calculate energy components.\n",
    "    V_xc= (4.0*pi)*MathUtils.integral((V_xcp.*density_in.*grid_sqrt), grid);\n",
    "    E_hartree= 0.5*(4.0*pi)*(MathUtils.integral((V_hartree.*density_in.*grid_sqrt), grid));\n",
    "    E_x= (4.0*pi)*MathUtils.integral((E_xp.*density_in.*grid_sqrt), grid);\n",
    "    E_c= (4.0*pi)*MathUtils.integral((E_cp.*density_in.*grid_sqrt), grid);\n",
    "    #C_in= (4.0*pi)*MathUtils.integral((density_in.*grid_sqrt), grid)\n",
    "    #C_out= (4.0*pi)*MathUtils.integral((density_out.*grid_sqrt), grid)\n",
    "    #Calculate total energy.\n",
    "    E_total= E_eigen - E_hartree + E_x + E_c - V_xc;\n",
    "end\n",
    "println(\"E_hartree \", E_hartree)\n",
    "println(\"E_x + E_c \", (E_x + E_c))\n",
    "println(\"E_total \", E_total)\n",
    "basis.Energy=E_total;\n",
    "basis.E_hartree=E_hartree;\n",
    "basis.E_xc=(E_x + E_c);\n",
    "basis.V_xc=V_xc;\n",
    "save_path=\"../save_basis_set/numerical_orbital_basis_Z_$(string(Z))_E_$(string(round(E_total; digits = 6))).json\";\n",
    "AtomBasisSet.save_basis_set(basis, save_path);"
   ]
  },
  {
   "cell_type": "code",
   "execution_count": 6,
   "metadata": {},
   "outputs": [
    {
     "data": {
      "text/plain": [
       "-2.8344113631397807"
      ]
     },
     "metadata": {},
     "output_type": "display_data"
    }
   ],
   "source": [
    "E_total # Z=2 simple_exponential_grid"
   ]
  },
  {
   "cell_type": "code",
   "execution_count": 6,
   "metadata": {},
   "outputs": [
    {
     "data": {
      "text/plain": [
       "-2.8348377103009534"
      ]
     },
     "metadata": {},
     "output_type": "display_data"
    }
   ],
   "source": [
    "E_total # Z=2 exponential_grid"
   ]
  },
  {
   "cell_type": "code",
   "execution_count": null,
   "metadata": {},
   "outputs": [],
   "source": []
  }
 ],
 "metadata": {
  "kernelspec": {
   "display_name": "Julia 1.8.2",
   "language": "julia",
   "name": "julia-1.8"
  },
  "language_info": {
   "file_extension": ".jl",
   "mimetype": "application/julia",
   "name": "julia",
   "version": "1.8.2"
  }
 },
 "nbformat": 4,
 "nbformat_minor": 2
}
