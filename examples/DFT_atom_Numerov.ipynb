{
 "cells": [
  {
   "cell_type": "markdown",
   "metadata": {
    "vscode": {
     "languageId": "julia"
    }
   },
   "source": [
    "# DFT atom"
   ]
  },
  {
   "cell_type": "code",
   "execution_count": 1,
   "metadata": {},
   "outputs": [
    {
     "name": "stderr",
     "output_type": "stream",
     "text": [
      "\u001b[32m\u001b[1m  Activating\u001b[22m\u001b[39m project at `~/Desktop/physics_coding_projects/julia/SchrodingerEquationSolver`\n"
     ]
    }
   ],
   "source": [
    "using Pkg;\n",
    "Pkg.activate(\"../../SchrodingerEquationSolver\");\n",
    "include(\"../src/SchrodingerEquationSolver.jl\");\n",
    "import .SchrodingerEquationSolver as ses\n",
    "import .ses.Grids as Grids\n",
    "import .ses.Potentials as Potentials\n",
    "import .ses.MathUtils as MathUtils\n",
    "import .ses.Hydrogen as Hydrogen\n",
    "import .ses.InitialConditions as InitialConditions\n",
    "import .ses.OneDSchrodingerEquationSolver as odses\n",
    "import .ses.OneDPoissonEquationSolver as odpes\n",
    "import .ses.EigenvalueFinders as EigenvalueFinders\n",
    "import .ses.AtomBasisSet as AtomBasisSet\n",
    "import .ses.Density as Density\n",
    "import .ses.ExchangeCorrelation as ExchangeCorrelation\n",
    "using Plots"
   ]
  },
  {
   "cell_type": "code",
   "execution_count": 2,
   "metadata": {},
   "outputs": [],
   "source": [
    "#Define parameters and produce an exponential grid.\n",
    "\n",
    "Z::Int64=2;#Atomic number, also used as the charge of coulomb potential.\n",
    "\n",
    "# Space grid definition and creation\n",
    "r_min::Float64=1.0e-8; #Where the space grid starts.\n",
    "r_max::Float64=10.0; #Where the space grid ends.\n",
    "N=15000; #Number of points in the space grind.\n",
    "grid= Grids.uniform_grid(r_min, r_max, N); #Grid creation, grid is the list with the grid \n",
    "grid_sqrt= grid.^2.0;\n",
    "integrador_type::String=\"Numerov\";"
   ]
  },
  {
   "cell_type": "code",
   "execution_count": 3,
   "metadata": {},
   "outputs": [],
   "source": [
    "#Initialization of potentials and energies\n",
    "\n",
    "#Initializing coulomb potential due to nuclei charge.\n",
    "V_colu::Vector{Float64}= Potentials.coulomb_potential(Z, grid);\n",
    "#Initializing Hartree potential due to electron density. \n",
    "V_hartree::Vector{Float64}=zeros(Float64, N);\n",
    "#Initializing exchange potential.\n",
    "V_x::Vector{Float64}=zeros(Float64, N);\n",
    "#Initializing correlation potential.\n",
    "V_c::Vector{Float64}=zeros(Float64, N);\n",
    "#Initializing energy exchange potential.\n",
    "E_xp::Vector{Float64}=zeros(Float64, N);\n",
    "#Initializing energy correlation potential.\n",
    "E_cp::Vector{Float64}=zeros(Float64, N);\n",
    "#Initializing exchange + correlation potential.\n",
    "V_xcp::Vector{Float64}=zeros(Float64, N);\n",
    "#Initializing the density.\n",
    "density_in::Vector{Float64}= zeros(Float64, N);\n",
    "#Initializing total energy\n",
    "E_total::Float64=1.0;\n",
    "#Initializing total energy step before\n",
    "E_total_before::Float64=2.0;\n",
    "#Initializing energy from energy eigenvalues\n",
    "E_eigen::Float64=0.0;\n",
    "#Initializing exchange correlation potential value after integral\n",
    "V_xc::Float64= 0.0;\n",
    "#Initializing Hartree energy\n",
    "E_hartree::Float64= 0.0;\n",
    "#Initializing exchange energy\n",
    "E_x::Float64= 0.0;\n",
    "#Initializing correlation enrgy\n",
    "E_c::Float64= 0.0;\n",
    "#Initializing basis set data structure\n",
    "basis= AtomBasisSet.init_atom_basis_set(Z, grid);"
   ]
  },
  {
   "cell_type": "code",
   "execution_count": 4,
   "metadata": {},
   "outputs": [],
   "source": [
    "#Energy minimization loop \n",
    "while abs(E_total - E_total_before) > 10.0e-12\n",
    "    E_eigen=0.0;\n",
    "    #Loop over every orbital to solve independent particle Schrodinger equation.\n",
    "    for i_orbi in basis.orbitals\n",
    "        #angular potential for l orbital\n",
    "        V_angu= Potentials.angular_potential(i_orbi.l, grid);\n",
    "        #Assemble effective potential.\n",
    "        V_effe= V_colu .+ V_angu .+ V_hartree .+ V_x .+ V_c;\n",
    "        #Energy grid to search for new eigenvalue, search around the previous eigenvalue.\n",
    "        E_grid= Grids.uniform_grid(i_orbi.E - 0.5*i_orbi.E, i_orbi.E + 0.5*i_orbi.E, 150);\n",
    "        #Find the energy intervals with potential eigenvalues.\n",
    "        E_intervals, bad_intervals= EigenvalueFinders.find_eigenvalue_intervals(E_grid, V_effe,\n",
    "                                                        grid,InitialConditions.atom, l=i_orbi.l, \n",
    "                                                        integrador_type=integrador_type);\n",
    "        #Search for a solution to the independent particle Schrodinger equation for the first energy interval, \n",
    "        #there should be only one interval. Any other interval would be of a higher energy.\n",
    "        u_temp, ei_temp= EigenvalueFinders.illinois_eigenvalue_finder(E_intervals[1], V_effe, grid,InitialConditions.atom,\n",
    "        integrador_type=integrador_type);\n",
    "        #Update eigenvalue and eigenfunction in the basis set data structure.\n",
    "        i_orbi.E=ei_temp;\n",
    "        i_orbi.u=u_temp;\n",
    "        E_eigen+= i_orbi.occu*ei_temp;\n",
    "\n",
    "    end\n",
    "    #Update E_total_before from the E_total from the previous step.\n",
    "    E_total_before= float(E_total);\n",
    "    #Calculate density with new basis set.\n",
    "    density_out= Density.calculate_density(basis);\n",
    "    #Smooth the density with linear mixing (combination) of the previous and current densities.\n",
    "    density_in= Density.linear_mixing(density_in, density_out, alpha=0.25);\n",
    "    #Solve Poisson equation to find the new Hartree potential.\n",
    "    V_hartree= odpes.solver(Z, density_in, grid);\n",
    "    #Calculate new exchange and correlation potentials.\n",
    "    V_x, E_xp, V_c, E_cp= ExchangeCorrelation.potentials(density_in);\n",
    "    #Add exchange and correlation potentials.\n",
    "    V_xcp= V_x .+ V_c;\n",
    "    #Integrals to calculate energy components.\n",
    "    V_xc= (4.0*pi)*MathUtils.integral((V_xcp.*density_in.*grid_sqrt), grid);\n",
    "    E_hartree= 0.5*(4.0*pi)*(MathUtils.integral((V_hartree.*density_in.*grid_sqrt), grid));\n",
    "    E_x= (4.0*pi)*MathUtils.integral((E_xp.*density_in.*grid_sqrt), grid);\n",
    "    E_c= (4.0*pi)*MathUtils.integral((E_cp.*density_in.*grid_sqrt), grid);\n",
    "    #C_in= (4.0*pi)*MathUtils.integral((density_in.*grid_sqrt), grid)\n",
    "    #C_out= (4.0*pi)*MathUtils.integral((density_out.*grid_sqrt), grid)\n",
    "    #Calculate total energy.\n",
    "    E_total= E_eigen - E_hartree + E_x + E_c - V_xc;\n",
    "end"
   ]
  },
  {
   "cell_type": "code",
   "execution_count": 5,
   "metadata": {},
   "outputs": [
    {
     "data": {
      "text/plain": [
       "-2.8348322323533797"
      ]
     },
     "metadata": {},
     "output_type": "display_data"
    }
   ],
   "source": [
    "E_total"
   ]
  },
  {
   "cell_type": "code",
   "execution_count": 7,
   "metadata": {},
   "outputs": [
    {
     "data": {
      "text/plain": [
       "-0.57261353955821"
      ]
     },
     "metadata": {},
     "output_type": "display_data"
    }
   ],
   "source": [
    "E_eigen*0.5"
   ]
  },
  {
   "cell_type": "code",
   "execution_count": null,
   "metadata": {},
   "outputs": [],
   "source": []
  }
 ],
 "metadata": {
  "kernelspec": {
   "display_name": "Julia 1.8.2",
   "language": "julia",
   "name": "julia-1.8"
  },
  "language_info": {
   "file_extension": ".jl",
   "mimetype": "application/julia",
   "name": "julia",
   "version": "1.8.2"
  }
 },
 "nbformat": 4,
 "nbformat_minor": 2
}
