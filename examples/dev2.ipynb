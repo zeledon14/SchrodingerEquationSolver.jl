{
 "cells": [
  {
   "cell_type": "markdown",
   "metadata": {
    "vscode": {
     "languageId": "julia"
    }
   },
   "source": [
    "# Dev2"
   ]
  },
  {
   "cell_type": "code",
   "execution_count": 1,
   "metadata": {},
   "outputs": [
    {
     "name": "stderr",
     "output_type": "stream",
     "text": [
      "\u001b[32m\u001b[1m  Activating\u001b[22m\u001b[39m project at `~/Desktop/physics_coding_projects/julia/SchrodingerEquationSolver`\n"
     ]
    }
   ],
   "source": [
    "using Pkg;\n",
    "Pkg.activate(\"../../SchrodingerEquationSolver\");\n",
    "include(\"../src/SchrodingerEquationSolver.jl\");\n",
    "import .SchrodingerEquationSolver as ses\n",
    "import .ses.Grids as Grids\n",
    "import .ses.Potentials as Potentials\n",
    "import .ses.MathUtils as MathUtils\n",
    "import .ses.Hydrogen as Hydrogen\n",
    "import .ses.InitialConditions as InitialConditions\n",
    "import .ses.OneDSchrodingerEquationSolver as odses\n",
    "import .ses.OneDPoissonEquationSolver as odpes\n",
    "import .ses.EigenvalueFinders as EigenvalueFinders\n",
    "import .ses.AtomBasisSet as AtomBasisSet\n",
    "import .ses.Density as Density\n",
    "import .ses.ExchangeCorrelation as ExchangeCorrelation\n",
    "using Plots"
   ]
  },
  {
   "cell_type": "code",
   "execution_count": 2,
   "metadata": {},
   "outputs": [],
   "source": [
    "#Define parameters and produce an exponential grid.\n",
    "r_max::Float64=50.0;#Max radius of space grid.\n",
    "Z::Int64=3;#Atomic number, also used as the charge of coulomb potential.\n",
    "#b::Float64=0.001504; #By decreasing b the number of points in the grid increase.\n",
    "grid= ses.Grids.exponential_grid(r_max, Z);\n",
    "grid_sqrt= grid.^2.0; \n",
    "N= size(grid)[1]; #Number of points in the grid."
   ]
  },
  {
   "cell_type": "code",
   "execution_count": 3,
   "metadata": {},
   "outputs": [],
   "source": [
    "#Initialization of potentials and energies\n",
    "\n",
    "#Initializing coulomb potential due to nuclei charge.\n",
    "V_colu::Vector{Float64}= Potentials.coulomb_potential(Z, grid);\n",
    "#Initializing Hartree potential due to electron density. \n",
    "V_hartree::Vector{Float64}=zeros(Float64, N);\n",
    "#Initializing exchange potential.\n",
    "V_x::Vector{Float64}=zeros(Float64, N);\n",
    "#Initializing correlation potential.\n",
    "V_c::Vector{Float64}=zeros(Float64, N);\n",
    "#Initializing energy exchange potential.\n",
    "E_xp::Vector{Float64}=zeros(Float64, N);\n",
    "#Initializing energy correlation potential.\n",
    "E_cp::Vector{Float64}=zeros(Float64, N);\n",
    "#Initializing exchange + correlation potential.\n",
    "V_xcp::Vector{Float64}=zeros(Float64, N);\n",
    "#Initializing the density.\n",
    "density_in::Vector{Float64}= zeros(Float64, N);\n",
    "#Initializing total energy\n",
    "E_total::Float64=1.0;\n",
    "#Initializing total energy step before\n",
    "E_total_before::Float64=2.0;\n",
    "#Initializing energy from energy eigenvalues\n",
    "E_eigen::Float64=0.0;\n",
    "#Initializing exchange correlation potential value after integral\n",
    "V_xc::Float64= 0.0;\n",
    "#Initializing Hartree energy\n",
    "E_hartree::Float64= 0.0;\n",
    "#Initializing exchange energy\n",
    "E_x::Float64= 0.0;\n",
    "#Initializing correlation enrgy\n",
    "E_c::Float64= 0.0;\n",
    "#Initializing basis set data structure\n",
    "basis= AtomBasisSet.init_atom_basis_set(Z, grid);"
   ]
  },
  {
   "cell_type": "code",
   "execution_count": 4,
   "metadata": {},
   "outputs": [],
   "source": [
    "#Energy minimization loop \n",
    "while abs(E_total - E_total_before) > 10.0e-12\n",
    "    E_eigen=0.0;\n",
    "    #Loop over every orbital to solve independent particle Schrodinger equation.\n",
    "    for i_orbi in basis.orbitals\n",
    "        #angular potential for l orbital\n",
    "        V_angu= Potentials.angular_potential(i_orbi.l, grid);\n",
    "        #Assemble effective potential.\n",
    "        V_effe= V_colu .+ V_angu .+ V_hartree .+ V_x .+ V_c;\n",
    "        #Energy grid to search for new eigenvalue, search around the previous eigenvalue.\n",
    "        E_grid= Grids.uniform_grid(i_orbi.E - 0.5*i_orbi.E, i_orbi.E + 0.5*i_orbi.E, 250);\n",
    "        #Find the energy intervals with potential eigenvalues.\n",
    "        E_intervals, bad_intervals= EigenvalueFinders.find_eigenvalue_intervals(E_grid, V_effe,\n",
    "                                                        grid,InitialConditions.atom, i_orbi.l);\n",
    "        #Search for a solution to the independent particle Schrodinger equation for the first energy interval, \n",
    "        #there should be only one interval. Any other interval would be of a higher energy.\n",
    "        u_temp, ei_temp= EigenvalueFinders.illinois_eigenvalue_finder(E_intervals[1], V_effe, grid,InitialConditions.atom);\n",
    "        #Update eigenvalue and eigenfunction in the basis set data structure.\n",
    "        i_orbi.E=ei_temp;\n",
    "        i_orbi.u=u_temp;\n",
    "        E_eigen+= i_orbi.occu*ei_temp;\n",
    "\n",
    "    end\n",
    "    #Update E_total_before from the E_total from the previous step.\n",
    "    E_total_before= float(E_total);\n",
    "    #Calculate density with new basis set.\n",
    "    density_out= Density.calculate_density(basis);\n",
    "    #Smooth the density with linear mixing (combination) of the previous and current densities.\n",
    "    density_in= Density.linear_mixing(density_in, density_out, alpha=0.25);\n",
    "    #Solve Poisson equation to find the new Hartree potential.\n",
    "    V_hartree= odpes.solver(Z, density_in, grid);\n",
    "    #Calculate new exchange and correlation potentials.\n",
    "    V_x, E_xp, V_c, E_cp= ExchangeCorrelation.potentials(density_in);\n",
    "    #Add exchange and correlation potentials.\n",
    "    V_xcp= V_x .+ V_c;\n",
    "    #Integrals to calculate energy components.\n",
    "    V_xc= (4.0*pi)*MathUtils.integral((V_xcp.*density_in.*grid_sqrt), grid);\n",
    "    E_hartree= 0.5*(4.0*pi)*(MathUtils.integral((V_hartree.*density_in.*grid_sqrt), grid));\n",
    "    E_x= (4.0*pi)*MathUtils.integral((E_xp.*density_in.*grid_sqrt), grid);\n",
    "    E_c= (4.0*pi)*MathUtils.integral((E_cp.*density_in.*grid_sqrt), grid);\n",
    "    #C_in= (4.0*pi)*MathUtils.integral((density_in.*grid_sqrt), grid)\n",
    "    #C_out= (4.0*pi)*MathUtils.integral((density_out.*grid_sqrt), grid)\n",
    "    #Calculate total energy.\n",
    "    E_total= E_eigen - E_hartree + E_x + E_c - V_xc;\n",
    "end"
   ]
  },
  {
   "cell_type": "code",
   "execution_count": 5,
   "metadata": {},
   "outputs": [
    {
     "data": {
      "text/plain": [
       "-7.335200590961793"
      ]
     },
     "metadata": {},
     "output_type": "display_data"
    }
   ],
   "source": [
    "E_total"
   ]
  },
  {
   "cell_type": "code",
   "execution_count": 6,
   "metadata": {},
   "outputs": [],
   "source": [
    "save_path=\"../save_basis_set/test_write_basis.json\"\n",
    "AtomBasisSet.save_basis_set(basis, save_path);"
   ]
  },
  {
   "cell_type": "code",
   "execution_count": null,
   "metadata": {},
   "outputs": [],
   "source": []
  },
  {
   "cell_type": "code",
   "execution_count": null,
   "metadata": {},
   "outputs": [],
   "source": []
  },
  {
   "cell_type": "code",
   "execution_count": 13,
   "metadata": {},
   "outputs": [
    {
     "ename": "MethodError",
     "evalue": "MethodError: no method matching fieldnames(::Main.SchrodingerEquationSolver.AtomBasisSet.orbital)\nClosest candidates are:\n  fieldnames(!Matched::Core.TypeofBottom) at reflection.jl:188\n  fieldnames(!Matched::Type{<:Tuple}) at reflection.jl:190\n  fieldnames(!Matched::DataType) at reflection.jl:185\n  ...",
     "output_type": "error",
     "traceback": [
      "MethodError: no method matching fieldnames(::Main.SchrodingerEquationSolver.AtomBasisSet.orbital)\n",
      "Closest candidates are:\n",
      "  fieldnames(!Matched::Core.TypeofBottom) at reflection.jl:188\n",
      "  fieldnames(!Matched::Type{<:Tuple}) at reflection.jl:190\n",
      "  fieldnames(!Matched::DataType) at reflection.jl:185\n",
      "  ...\n",
      "\n",
      "Stacktrace:\n",
      " [1] top-level scope\n",
      "   @ ~/Desktop/physics_coding_projects/julia/SchrodingerEquationSolver/examples/dev2.ipynb:2"
     ]
    }
   ],
   "source": [
    "for e in basis.orbitals\n",
    "    fieldnames(e)\n",
    "end"
   ]
  },
  {
   "cell_type": "code",
   "execution_count": 9,
   "metadata": {},
   "outputs": [
    {
     "ename": "MethodError",
     "evalue": "MethodError: no method matching fieldnames(::Main.SchrodingerEquationSolver.AtomBasisSet.atom_basis_set)\nClosest candidates are:\n  fieldnames(!Matched::Core.TypeofBottom) at reflection.jl:188\n  fieldnames(!Matched::Type{<:Tuple}) at reflection.jl:190\n  fieldnames(!Matched::DataType) at reflection.jl:185\n  ...",
     "output_type": "error",
     "traceback": [
      "MethodError: no method matching fieldnames(::Main.SchrodingerEquationSolver.AtomBasisSet.atom_basis_set)\n",
      "Closest candidates are:\n",
      "  fieldnames(!Matched::Core.TypeofBottom) at reflection.jl:188\n",
      "  fieldnames(!Matched::Type{<:Tuple}) at reflection.jl:190\n",
      "  fieldnames(!Matched::DataType) at reflection.jl:185\n",
      "  ...\n",
      "\n",
      "Stacktrace:\n",
      " [1] top-level scope\n",
      "   @ ~/Desktop/physics_coding_projects/julia/SchrodingerEquationSolver/examples/dev2.ipynb:1"
     ]
    }
   ],
   "source": [
    "fieldnames(basis)"
   ]
  },
  {
   "cell_type": "code",
   "execution_count": 20,
   "metadata": {},
   "outputs": [
    {
     "data": {
      "text/plain": [
       "Base.RefValue{Main.SchrodingerEquationSolver.AtomBasisSet.atom_basis_set}(Main.SchrodingerEquationSolver.AtomBasisSet.atom_basis_set([3.336962704870589e-9, 6.681622635612358e-9, 1.0033997547079788e-8, 1.3394105235080599e-8, 1.676196353647307e-8, 2.0137590329257294e-8, 2.3521003532672462e-8, 2.691222110729168e-8, 3.031126105511636e-8, 3.371814141967263e-8  …  48.97703290195987, 49.0900060842293, 49.20323985679543, 49.31673482075066, 49.430491578573395, 49.54451073413226, 49.65879289268884, 49.773338660900244, 49.88814864682354, 50.00322345991833], Main.SchrodingerEquationSolver.AtomBasisSet.orbital[Main.SchrodingerEquationSolver.AtomBasisSet.orbital(1, 0, \"1s\", -1.8805981493310349, 2.0, [3.055574565500322e-8, 6.11819725786213e-8, 9.187884302880042e-8, 1.2264651997441103e-7, 1.5348516674485708e-7, 1.8439494704401665e-7, 2.153760249539114e-7, 2.4642856492907126e-7, 2.7755273180568535e-7, 3.087486907993262e-7  …  5.245362156811454e-41, 4.2110530630466335e-41, 3.3780022893868104e-41, 2.7071459588803783e-41, 2.166874107740604e-41, 1.731610845545307e-41, 1.3806641708308273e-41, 1.0972303598732395e-41, 8.676910097098285e-42, 6.80958857437093e-42]), Main.SchrodingerEquationSolver.AtomBasisSet.orbital(2, 0, \"2s\", -0.10703681130981665, 1.0, [5.465632781145059e-9, 1.0943872838726688e-8, 1.6434749196495753e-8, 2.1938291005369105e-8, 2.7454527480753694e-8, 3.2983487905040236e-8, 3.8525201628259534e-8, 4.4079698067074486e-8, 4.964700670641697e-8, 5.5227157099080735e-8  …  -1.0409137279702888e-9, -9.882932016913822e-10, -9.382614327903805e-10, -8.906990808401269e-10, -8.454921435922478e-10, -8.025317573658503e-10, -7.617143665542194e-10, -7.229402797574029e-10, -6.861147775128117e-10, -6.511474761629917e-10])]))"
      ]
     },
     "metadata": {},
     "output_type": "display_data"
    }
   ],
   "source": [
    "Ref(basis)"
   ]
  },
  {
   "cell_type": "code",
   "execution_count": 19,
   "metadata": {},
   "outputs": [
    {
     "data": {
      "text/plain": [
       "(:grid, :orbitals)"
      ]
     },
     "metadata": {},
     "output_type": "display_data"
    }
   ],
   "source": [
    "fieldnames(AtomBasisSet.atom_basis_set)"
   ]
  },
  {
   "cell_type": "code",
   "execution_count": 29,
   "metadata": {},
   "outputs": [
    {
     "data": {
      "text/plain": [
       "Dict{Symbol, Any} with 6 entries:\n",
       "  :l    => 0\n",
       "  :n    => 1\n",
       "  :occu => 2.0\n",
       "  :name => \"1s\"\n",
       "  :u    => [3.05557e-8, 6.1182e-8, 9.18788e-8, 1.22647e-7, 1.53485e-7, 1.84395e…\n",
       "  :E    => -1.8806"
      ]
     },
     "metadata": {},
     "output_type": "display_data"
    }
   ],
   "source": [
    "temp1= Dict(fieldnames(AtomBasisSet.orbital) .=> getfield.(Ref(basis.orbitals[1]), fieldnames(AtomBasisSet.orbital)))"
   ]
  },
  {
   "cell_type": "code",
   "execution_count": 23,
   "metadata": {},
   "outputs": [],
   "source": [
    "using JSON3"
   ]
  },
  {
   "cell_type": "code",
   "execution_count": 30,
   "metadata": {},
   "outputs": [
    {
     "data": {
      "text/plain": [
       "\"{\\\"l\\\":0,\\\"n\\\":1,\\\"occu\\\":2.0,\\\"name\\\":\\\"1s\\\",\\\"u\\\":[3.055574565500322e-8,6.11819725786213e-8,9.187884302880042e-8,1.2264651997441103e-7,1.5348516674485708e-7,1.8439494704401665e-7,2.153760249539114e-7,2.4642856492907126e-7,2.7755273180568535e-7,3.087486907993262e-7,3.400166075067\" ⋯ 155836 bytes ⋯ \"529201724042769e-41,5.245362156811454e-41,4.2110530630466335e-41,3.3780022893868104e-41,2.7071459588803783e-41,2.166874107740604e-41,1.731610845545307e-41,1.3806641708308273e-41,1.0972303598732395e-41,8.676910097098285e-42,6.80958857437093e-42],\\\"E\\\":-1.8805981493310349}\""
      ]
     },
     "metadata": {},
     "output_type": "display_data"
    }
   ],
   "source": [
    "JSON3.write(temp1)"
   ]
  },
  {
   "cell_type": "code",
   "execution_count": 31,
   "metadata": {},
   "outputs": [
    {
     "data": {
      "text/plain": [
       "7534-element Vector{Float64}:\n",
       "  3.336962704870589e-9\n",
       "  6.681622635612358e-9\n",
       "  1.0033997547079788e-8\n",
       "  1.3394105235080599e-8\n",
       "  1.676196353647307e-8\n",
       "  2.0137590329257294e-8\n",
       "  2.3521003532672462e-8\n",
       "  2.691222110729168e-8\n",
       "  3.031126105511636e-8\n",
       "  3.371814141967263e-8\n",
       "  ⋮\n",
       " 49.0900060842293\n",
       " 49.20323985679543\n",
       " 49.31673482075066\n",
       " 49.430491578573395\n",
       " 49.54451073413226\n",
       " 49.65879289268884\n",
       " 49.773338660900244\n",
       " 49.88814864682354\n",
       " 50.00322345991833"
      ]
     },
     "metadata": {},
     "output_type": "display_data"
    }
   ],
   "source": [
    "basis.grid"
   ]
  },
  {
   "cell_type": "code",
   "execution_count": 33,
   "metadata": {},
   "outputs": [
    {
     "data": {
      "text/plain": [
       "Dict{String, String} with 1 entry:\n",
       "  \"grid\" => \"[3.336962704870589e-9,6.681622635612358e-9,1.0033997547079788e-8,1…"
      ]
     },
     "metadata": {},
     "output_type": "display_data"
    }
   ],
   "source": [
    "out= Dict{String, String}(\"grid\"=>JSON3.write(basis.grid))"
   ]
  },
  {
   "cell_type": "code",
   "execution_count": 26,
   "metadata": {},
   "outputs": [],
   "source": []
  },
  {
   "cell_type": "code",
   "execution_count": 27,
   "metadata": {},
   "outputs": [],
   "source": []
  },
  {
   "cell_type": "code",
   "execution_count": 28,
   "metadata": {},
   "outputs": [],
   "source": []
  },
  {
   "cell_type": "code",
   "execution_count": null,
   "metadata": {},
   "outputs": [],
   "source": []
  }
 ],
 "metadata": {
  "kernelspec": {
   "display_name": "Julia 1.8.2",
   "language": "julia",
   "name": "julia-1.8"
  },
  "language_info": {
   "file_extension": ".jl",
   "mimetype": "application/julia",
   "name": "julia",
   "version": "1.8.2"
  }
 },
 "nbformat": 4,
 "nbformat_minor": 2
}
