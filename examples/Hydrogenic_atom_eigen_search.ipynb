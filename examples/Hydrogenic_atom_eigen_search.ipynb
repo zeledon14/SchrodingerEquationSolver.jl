{
 "cells": [
  {
   "cell_type": "markdown",
   "metadata": {
    "vscode": {
     "languageId": "julia"
    }
   },
   "source": [
    "# DFT atom"
   ]
  },
  {
   "cell_type": "code",
   "execution_count": 1,
   "metadata": {},
   "outputs": [
    {
     "name": "stderr",
     "output_type": "stream",
     "text": [
      "\u001b[32m\u001b[1m  Activating\u001b[22m\u001b[39m project at `~/Desktop/physics_coding_projects/julia/SchrodingerEquationSolver`\n"
     ]
    }
   ],
   "source": [
    "using Pkg;\n",
    "Pkg.activate(\"../../SchrodingerEquationSolver\");\n",
    "include(\"../src/SchrodingerEquationSolver.jl\");\n",
    "import .SchrodingerEquationSolver as ses\n",
    "import .ses.Grids as Grids\n",
    "import .ses.Potentials as Potentials\n",
    "import .ses.MathUtils as MathUtils\n",
    "import .ses.Hydrogen as Hydrogen\n",
    "import .ses.InitialConditions as InitialConditions\n",
    "import .ses.OneDSchrodingerEquationSolver as odses\n",
    "import .ses.OneDPoissonEquationSolver as odpes\n",
    "import .ses.EigenvalueFinders as EigenvalueFinders\n",
    "import .ses.AtomBasisSet as AtomBasisSet\n",
    "import .ses.Density as Density\n",
    "import .ses.ExchangeCorrelation as ExchangeCorrelation\n",
    "using Plots"
   ]
  },
  {
   "cell_type": "code",
   "execution_count": 2,
   "metadata": {},
   "outputs": [],
   "source": [
    "#Define parameters and produce an exponential grid.\n",
    "r_max::Float64=50.0;#Max radius of space grid.\n",
    "Z::Int64=10;#Atomic number, also used as the charge of coulomb potential."
   ]
  },
  {
   "cell_type": "markdown",
   "metadata": {},
   "source": [
    "## Exponential grid"
   ]
  },
  {
   "cell_type": "code",
   "execution_count": 3,
   "metadata": {},
   "outputs": [
    {
     "name": "stdout",
     "output_type": "stream",
     "text": [
      "grid size 8057"
     ]
    }
   ],
   "source": [
    "\n",
    "#b::Float64=0.000904; #By decreasing b the number of points in the grid increase.\n",
    "grid= ses.Grids.exponential_grid(r_max, Z)#, b=b);\n",
    "grid_sqrt= grid.^2.0; \n",
    "N= size(grid)[1]; #Number of points in the grid.\n",
    "print(\"grid size \", N)"
   ]
  },
  {
   "cell_type": "code",
   "execution_count": 6,
   "metadata": {},
   "outputs": [],
   "source": [
    "#Initialization of potentials and energies\n",
    "\n",
    "#Initializing coulomb potential due to nuclei charge.\n",
    "V_colu::Vector{Float64}= Potentials.coulomb_potential(Z, grid);\n",
    "#Initializing basis set data structure\n",
    "basis= AtomBasisSet.init_atom_basis_set(Z, grid);"
   ]
  },
  {
   "cell_type": "code",
   "execution_count": 7,
   "metadata": {},
   "outputs": [],
   "source": [
    "\n",
    "for i_orbi in basis.orbitals\n",
    "    #angular potential for l orbital\n",
    "    V_angu= Potentials.angular_potential(i_orbi.l, grid);\n",
    "    #Assemble effective potential.\n",
    "    V_effe= V_colu .+ V_angu;\n",
    "    #Energy grid to search for new eigenvalue, search around the previous eigenvalue.\n",
    "    E_grid= Grids.uniform_grid(i_orbi.E - 0.5*i_orbi.E, i_orbi.E + 0.5*i_orbi.E, 250);\n",
    "    #Find the energy intervals with potential eigenvalues.\n",
    "    E_intervals, bad_intervals= EigenvalueFinders.find_eigenvalue_intervals(E_grid, V_effe,\n",
    "                                                    grid,InitialConditions.atom, l=i_orbi.l);\n",
    "    #Search for a solution to the independent particle Schrodinger equation for the first energy interval, \n",
    "    #there should be only one interval. Any other interval would be of a higher energy.\n",
    "    u_temp, ei_temp= EigenvalueFinders.illinois_eigenvalue_finder(E_intervals[1], V_effe, grid,InitialConditions.atom);\n",
    "    #Update eigenvalue and eigenfunction in the basis set data structure.\n",
    "    i_orbi.E=ei_temp;\n",
    "    i_orbi.u=u_temp;\n",
    "\n",
    "end\n"
   ]
  },
  {
   "cell_type": "code",
   "execution_count": 8,
   "metadata": {},
   "outputs": [
    {
     "name": "stdout",
     "output_type": "stream",
     "text": [
      "-50.00004423719211\n",
      "-12.500011059234811\n",
      "-12.500003686399625\n"
     ]
    }
   ],
   "source": [
    "for i_orbi in basis.orbitals\n",
    "    println(i_orbi.E)\n",
    "end"
   ]
  },
  {
   "cell_type": "code",
   "execution_count": 6,
   "metadata": {},
   "outputs": [
    {
     "data": {
      "text/plain": [
       "-2.8348377103009534"
      ]
     },
     "metadata": {},
     "output_type": "display_data"
    }
   ],
   "source": [
    "E_total # Z=2 exponential_grid"
   ]
  },
  {
   "cell_type": "code",
   "execution_count": null,
   "metadata": {},
   "outputs": [],
   "source": []
  }
 ],
 "metadata": {
  "kernelspec": {
   "display_name": "Julia 1.8.2",
   "language": "julia",
   "name": "julia-1.8"
  },
  "language_info": {
   "file_extension": ".jl",
   "mimetype": "application/julia",
   "name": "julia",
   "version": "1.8.2"
  }
 },
 "nbformat": 4,
 "nbformat_minor": 2
}
