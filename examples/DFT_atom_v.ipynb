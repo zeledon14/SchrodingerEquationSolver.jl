{
 "cells": [
  {
   "cell_type": "markdown",
   "metadata": {
    "vscode": {
     "languageId": "julia"
    }
   },
   "source": [
    "# DFT atom"
   ]
  },
  {
   "cell_type": "code",
   "execution_count": 1,
   "metadata": {},
   "outputs": [
    {
     "name": "stderr",
     "output_type": "stream",
     "text": [
      "\u001b[32m\u001b[1m  Activating\u001b[22m\u001b[39m project at `~/Desktop/physics_coding_projects/julia/SchrodingerEquationSolver`\n"
     ]
    }
   ],
   "source": [
    "using Pkg;\n",
    "Pkg.activate(\"../../SchrodingerEquationSolver\");\n",
    "include(\"../src/SchrodingerEquationSolver.jl\");\n",
    "import .SchrodingerEquationSolver as ses\n",
    "import .ses.Grids as Grids\n",
    "import .ses.Potentials as Potentials\n",
    "import .ses.MathUtils as MathUtils\n",
    "import .ses.Hydrogen as Hydrogen\n",
    "import .ses.InitialConditions as InitialConditions\n",
    "import .ses.OneDSchrodingerEquationSolver as odses\n",
    "import .ses.OneDPoissonEquationSolver as odpes\n",
    "import .ses.EigenvalueFinders as EigenvalueFinders\n",
    "import .ses.AtomBasisSet as AtomBasisSet\n",
    "import .ses.Density as Density\n",
    "import .ses.ExchangeCorrelation as ExchangeCorrelation\n",
    "using Plots"
   ]
  },
  {
   "cell_type": "code",
   "execution_count": 2,
   "metadata": {},
   "outputs": [],
   "source": [
    "#Define parameters and produce an exponential grid.\n",
    "r_max::Float64=50.0;#Max radius of space grid.\n",
    "Z::Int64=28;#Atomic number, also used as the charge of coulomb potential."
   ]
  },
  {
   "cell_type": "markdown",
   "metadata": {},
   "source": [
    "## Exponential grid"
   ]
  },
  {
   "cell_type": "code",
   "execution_count": 3,
   "metadata": {},
   "outputs": [
    {
     "name": "stdout",
     "output_type": "stream",
     "text": [
      "grid size 8504"
     ]
    }
   ],
   "source": [
    "\n",
    "\n",
    "grid_stru= Grids.init_exponential_grid_structure(r_max, Z);\n",
    "grid= grid_stru.grid;\n",
    "grid_i= grid_stru.grid_i;\n",
    "a=grid_stru.a;\n",
    "b=grid_stru.b;\n",
    "c_i= (a*b).*(exp.(b.*grid_i));\n",
    "grid_sqrt= grid.^2.0; \n",
    "N= size(grid)[1]; #Number of points in the grid.\n",
    "print(\"grid size \", N)"
   ]
  },
  {
   "cell_type": "code",
   "execution_count": 4,
   "metadata": {},
   "outputs": [],
   "source": [
    "#Initialization of potentials and energies\n",
    "\n",
    "#Initializing coulomb potential due to nuclei charge.\n",
    "V_colu::Vector{Float64}= Potentials.coulomb_potential(Z, grid);\n",
    "#Initializing Hartree potential due to electron density. \n",
    "V_hartree::Vector{Float64}=zeros(Float64, N);\n",
    "#Initializing exchange potential.\n",
    "V_x::Vector{Float64}=zeros(Float64, N);\n",
    "#Initializing correlation potential.\n",
    "V_c::Vector{Float64}=zeros(Float64, N);\n",
    "#Initializing energy exchange potential.\n",
    "E_xp::Vector{Float64}=zeros(Float64, N);\n",
    "#Initializing energy correlation potential.\n",
    "E_cp::Vector{Float64}=zeros(Float64, N);\n",
    "#Initializing exchange + correlation potential.\n",
    "V_xcp::Vector{Float64}=zeros(Float64, N);\n",
    "#Initializing the density.\n",
    "density_in::Vector{Float64}= zeros(Float64, N);\n",
    "#Initializing total energy\n",
    "E_total::Float64=1.0;\n",
    "#Initializing total energy step before\n",
    "E_total_before::Float64=2.0;\n",
    "#Initializing energy from energy eigenvalues\n",
    "E_eigen::Float64=0.0;\n",
    "#Initializing exchange correlation potential value after integral\n",
    "V_xc::Float64= 0.0;\n",
    "#Initializing Hartree energy\n",
    "E_hartree::Float64= 0.0;\n",
    "#Initializing exchange energy\n",
    "E_x::Float64= 0.0;\n",
    "#Initializing correlation enrgy\n",
    "E_c::Float64= 0.0;\n",
    "#Initializing basis set data structure\n",
    "basis= AtomBasisSet.init_atom_basis_set(Z, grid);"
   ]
  },
  {
   "cell_type": "code",
   "execution_count": 5,
   "metadata": {},
   "outputs": [
    {
     "name": "stdout",
     "output_type": "stream",
     "text": [
      "1s\n",
      "2.0\n",
      "2s\n",
      "2.0\n",
      "2p\n",
      "6.0\n",
      "3s\n",
      "2.0\n",
      "3p\n",
      "6.0\n",
      "4s\n",
      "2.0\n",
      "3d\n",
      "8.0\n"
     ]
    }
   ],
   "source": [
    "for i_orbi in basis.orbitals\n",
    "    println(i_orbi.name)\n",
    "    println(i_orbi.occu)\n",
    "end"
   ]
  },
  {
   "cell_type": "code",
   "execution_count": 6,
   "metadata": {},
   "outputs": [],
   "source": [
    "#dev start"
   ]
  },
  {
   "cell_type": "code",
   "execution_count": 8,
   "metadata": {},
   "outputs": [
    {
     "name": "stdout",
     "output_type": "stream",
     "text": [
      "1s\n",
      "V_effe_max 2.537656871079013e-44\n",
      "V_effe_min -6.243202329421229e10\n",
      "E_guess_max initial-281.25000000001245\n",
      "E_guess_min initial-315.6250000000139\n",
      "E_guess_max final-281.25000000001245\n",
      "E_guess_min final-315.6250000000139\n",
      "-305.80904144477284\n",
      "--------------------------------\n",
      "2s\n",
      "V_effe_max 2.537656871079013e-44\n",
      "V_effe_min -6.243202329421229e10\n",
      "E_guess_max initial-70.3125000000058\n",
      "E_guess_min initial-78.90625000000651\n",
      "E_guess_max final-70.3125000000058\n",
      "E_guess_min final-78.90625000000651\n",
      "-72.53288609141666\n",
      "--------------------------------\n",
      "2p\n",
      "V_effe_max 6.23641199039716e18\n",
      "V_effe_min -148.99598435344765\n",
      "E_guess_max initial-70.31249999999793\n",
      "E_guess_min initial-78.90624999999767\n",
      "E_guess_max final-70.31249999999793\n",
      "E_guess_min final-78.90624999999767\n",
      "-72.1378606009953\n",
      "--------------------------------\n",
      "3s\n",
      "V_effe_max 2.537656871079013e-44\n",
      "V_effe_min -6.243202329421229e10\n",
      "E_guess_max initial-31.24999999999966\n",
      "E_guess_min initial-35.069444444444066\n",
      "E_guess_max final-31.24999999999966\n",
      "E_guess_min final-35.069444444444066\n",
      "-30.836865022353486\n",
      "--------------------------------\n",
      "3p\n",
      "V_effe_max 6.23641199039716e18\n",
      "V_effe_min -148.99598435344765\n",
      "E_guess_max initial-28.124999999999996\n",
      "E_guess_min initial-31.562499999999996\n",
      "E_guess_max final-28.124999999999996\n",
      "E_guess_min final-31.562499999999996\n",
      "-30.63230076618007\n",
      "--------------------------------\n",
      "4s\n",
      "V_effe_max 2.537656871079013e-44\n",
      "V_effe_min -6.243202329421229e10\n",
      "E_guess_max initial-17.57812499999746\n",
      "E_guess_min initial-19.72656249999715\n",
      "E_guess_max final-17.57812499999746\n",
      "E_guess_min final-19.72656249999715\n",
      "-16.714385676216963\n",
      "--------------------------------\n",
      "3d\n",
      "V_effe_max 1.870923609605553e19\n",
      "V_effe_min -46.487131629210936\n",
      "E_guess_max initial-28.125000000000004\n",
      "E_guess_min initial-31.562500000000004\n",
      "E_guess_max final-28.125000000000004\n",
      "E_guess_min final-31.562500000000004\n",
      "-30.265107353559774\n",
      "--------------------------------\n",
      "E_hartree 28.54352799398796\n",
      "E_x + E_c -7.649952084494284\n",
      "E_total -1645.8059769409097\n"
     ]
    }
   ],
   "source": [
    "#Energy minimization loop \n",
    "\n",
    "E_eigen=0.0;\n",
    "#Loop over every orbital to solve independent particle Schrodinger equation.\n",
    "for i_orbi in basis.orbitals\n",
    "    println(i_orbi.name)\n",
    "    #angular potential for l orbital\n",
    "    V_angu= Potentials.angular_potential(i_orbi.l, grid);\n",
    "    #Assemble effective potential.\n",
    "    V_effe= V_colu .+ V_angu .+ V_hartree .+ V_x .+ V_c;\n",
    "    V_effe_max= maximum(V_effe)\n",
    "    V_effe_min= minimum(V_effe)\n",
    "    println(\"V_effe_max \", V_effe_max)\n",
    "    println(\"V_effe_min \", V_effe_min)\n",
    "    #Energy grid to search for new eigenvalue, search around the previous eigenvalue.\n",
    "    #assuming i_orbi.E < 0\n",
    "    E_guess_max= i_orbi.E - 0.10*i_orbi.E;\n",
    "    E_guess_min= i_orbi.E + 0.01*i_orbi.E;\n",
    "    println(\"E_guess_max initial\", E_guess_max)\n",
    "    println(\"E_guess_min initial\", E_guess_min)\n",
    "    while E_guess_max > V_effe_max\n",
    "        if E_guess_max> 0\n",
    "            E_guess_max= E_guess_max - 0.1*E_guess_max;\n",
    "        else\n",
    "            E_guess_max= E_guess_max + 0.1*E_guess_max;\n",
    "        end\n",
    "    end\n",
    "\n",
    "    while E_guess_min < V_effe_min\n",
    "        if E_guess_min < 0.0\n",
    "            E_guess_min = E_guess_min - 0.1*E_guess_min;\n",
    "        else\n",
    "            E_guess_min = E_guess_min + 0.1*E_guess_min;\n",
    "        end\n",
    "    end\n",
    "    println(\"E_guess_max final\", E_guess_max)\n",
    "    println(\"E_guess_min final\", E_guess_min)\n",
    "    #Search for a solution to the independent particle Schrodinger equation for the first energy interval, \n",
    "    #there should be only one interval. Any other interval would be of a higher energy.\n",
    "    #u_temp, ei_temp= EigenvalueFinders.illinois_eigenvalue_finder(E_intervals[1], V_effe, grid,InitialConditions.atom);\n",
    "    u_temp, ei_temp= EigenvalueFinders.illinois_eigenvalue_finder_v((E_guess_min, E_guess_max), V_effe, \n",
    "    grid_stru,InitialConditions.atom_v, l=i_orbi.l);\n",
    "    #Update eigenvalue and eigenfunction in the basis set data structure.\n",
    "    i_orbi.E=ei_temp;\n",
    "    i_orbi.u=u_temp;\n",
    "    E_eigen+= i_orbi.occu*ei_temp;\n",
    "    println(i_orbi.E)\n",
    "    println(\"--------------------------------\")\n",
    "\n",
    "end\n",
    "#Update E_total_before from the E_total from the previous step.\n",
    "E_total_before= float(E_total);\n",
    "#Calculate density with new basis set.\n",
    "density_out= Density.calculate_density(basis);\n",
    "#Smooth the density with linear mixing (combination) of the previous and current densities.\n",
    "density_in= Density.linear_mixing(density_in, density_out, alpha=0.10);\n",
    "#Solve Poisson equation to find the new Hartree potential.\n",
    "V_hartree= odpes.solver_v_return_V_hartree(Z, density_in, grid_stru);\n",
    "#Calculate new exchange and correlation potentials.\n",
    "V_x, E_xp, V_c, E_cp= ExchangeCorrelation.potentials(density_in);\n",
    "#Add exchange and correlation potentials.\n",
    "V_xcp= V_x .+ V_c;\n",
    "#Integrals to calculate energy components.\n",
    "V_xc= (4.0*pi)*MathUtils.integral((V_xcp.*density_in.*grid_sqrt.*c_i), grid_i);\n",
    "E_hartree= 0.5*(4.0*pi)*(MathUtils.integral((V_hartree.*density_in.*grid_sqrt.*c_i), grid_i));\n",
    "E_x= (4.0*pi)*MathUtils.integral((E_xp.*density_in.*grid_sqrt.*c_i), grid_i);\n",
    "E_c= (4.0*pi)*MathUtils.integral((E_cp.*density_in.*grid_sqrt.*c_i), grid_i);\n",
    "#C_in= (4.0*pi)*MathUtils.integral((density_in.*grid_sqrt), grid)\n",
    "#C_out= (4.0*pi)*MathUtils.integral((density_out.*grid_sqrt), grid)\n",
    "#Calculate total energy.\n",
    "E_total= E_eigen - E_hartree + E_x + E_c - V_xc;\n",
    "\n",
    "#println(\"*****************************************\")\n",
    "\n",
    "println(\"E_hartree \", E_hartree)\n",
    "println(\"E_x + E_c \", (E_x + E_c))\n",
    "println(\"E_total \", E_total)\n",
    "#for i_orbi in basis.orbitals\n",
    "#    println(i_orbi.name)\n",
    "#    println(i_orbi.E)\n",
    "#end"
   ]
  },
  {
   "cell_type": "code",
   "execution_count": null,
   "metadata": {},
   "outputs": [],
   "source": []
  },
  {
   "cell_type": "code",
   "execution_count": null,
   "metadata": {},
   "outputs": [],
   "source": []
  },
  {
   "cell_type": "code",
   "execution_count": 53,
   "metadata": {},
   "outputs": [],
   "source": [
    "\n",
    "#Calculate new exchange and correlation potentials.\n",
    "V_x, E_xp, V_c, E_cp= ExchangeCorrelation.potentials(density_in);\n",
    "#Add exchange and correlation potentials.\n",
    "V_xcp= V_x .+ V_c;\n",
    "#Integrals to calculate energy components.\n",
    "V_xc= (4.0*pi)*MathUtils.integral((V_xcp.*density_in.*grid_sqrt.*c_i), grid_i);\n",
    "E_hartree= 0.5*(4.0*pi)*(MathUtils.integral((V_hartree.*density_in.*grid_sqrt.*c_i), grid_i));\n",
    "E_x= (4.0*pi)*MathUtils.integral((E_xp.*density_in.*grid_sqrt.*c_i), grid_i);\n",
    "E_c= (4.0*pi)*MathUtils.integral((E_cp.*density_in.*grid_sqrt.*c_i), grid_i);\n",
    "#C_in= (4.0*pi)*MathUtils.integral((density_in.*grid_sqrt), grid)\n",
    "#C_out= (4.0*pi)*MathUtils.integral((density_out.*grid_sqrt), grid)\n",
    "#Calculate total energy.\n",
    "E_total= E_eigen - E_hartree + E_x + E_c - V_xc;\n",
    "\n",
    "#println(\"*****************************************\")\n",
    "\n",
    "println(\"E_hartree \", E_hartree)\n",
    "println(\"E_x + E_c \", (E_x + E_c))\n",
    "println(\"E_total \", E_total)\n",
    "#for i_orbi in basis.orbitals\n",
    "#    println(i_orbi.name)\n",
    "#    println(i_orbi.E)\n",
    "#end"
   ]
  },
  {
   "cell_type": "markdown",
   "metadata": {},
   "source": []
  },
  {
   "cell_type": "code",
   "execution_count": null,
   "metadata": {},
   "outputs": [],
   "source": []
  },
  {
   "cell_type": "code",
   "execution_count": null,
   "metadata": {},
   "outputs": [],
   "source": []
  },
  {
   "cell_type": "code",
   "execution_count": null,
   "metadata": {},
   "outputs": [],
   "source": []
  },
  {
   "cell_type": "code",
   "execution_count": 7,
   "metadata": {},
   "outputs": [],
   "source": [
    "#dev end"
   ]
  },
  {
   "cell_type": "code",
   "execution_count": 6,
   "metadata": {},
   "outputs": [
    {
     "name": "stdout",
     "output_type": "stream",
     "text": [
      "E_hartree 416.78126669174185\n",
      "E_x + E_c -48.84860245382822\n",
      "E_total -1427.899650790251\n",
      "1s\n",
      "-311.393123336251\n",
      "2s\n",
      "-48.16244270671559\n",
      "2p\n",
      "-43.863780246856656\n",
      "3s\n",
      "-13.599620983490764\n",
      "3p\n",
      "-1.2227858285711215\n",
      "4s\n",
      "-4.576107976868956\n",
      "3d\n",
      "-0.13036359734237607\n"
     ]
    }
   ],
   "source": [
    "#Energy minimization loop \n",
    "while abs(E_total - E_total_before) > 10.0e-8\n",
    "    E_eigen=0.0;\n",
    "    #Loop over every orbital to solve independent particle Schrodinger equation.\n",
    "    for i_orbi in basis.orbitals\n",
    "        #println(i_orbi.name)\n",
    "        #angular potential for l orbital\n",
    "        V_angu= Potentials.angular_potential(i_orbi.l, grid);\n",
    "        #Assemble effective potential.\n",
    "        V_effe= V_colu .+ V_angu .+ V_hartree .+ V_x .+ V_c;\n",
    "        V_effe_max= maximum(V_effe)\n",
    "        V_effe_min= minimum(V_effe)\n",
    "        #Energy grid to search for new eigenvalue, search around the previous eigenvalue.\n",
    "        #assuming i_orbi.E < 0\n",
    "        E_guess_max= i_orbi.E - 0.10*i_orbi.E;\n",
    "        E_guess_min= i_orbi.E + 0.01*i_orbi.E;\n",
    "        while E_guess_max > V_effe_max\n",
    "            if E_guess_max> 0\n",
    "                E_guess_max= E_guess_max - 0.1*E_guess_max;\n",
    "            else\n",
    "                E_guess_max= E_guess_max + 0.1*E_guess_max;\n",
    "            end\n",
    "        end\n",
    "\n",
    "        while E_guess_min < V_effe_min\n",
    "            if E_guess_min < 0.0\n",
    "                E_guess_min = E_guess_min - 0.1*E_guess_min;\n",
    "            else\n",
    "                E_guess_min = E_guess_min + 0.1*E_guess_min;\n",
    "            end\n",
    "        end\n",
    "\n",
    "        #Search for a solution to the independent particle Schrodinger equation for the first energy interval, \n",
    "        #there should be only one interval. Any other interval would be of a higher energy.\n",
    "        #u_temp, ei_temp= EigenvalueFinders.illinois_eigenvalue_finder(E_intervals[1], V_effe, grid,InitialConditions.atom);\n",
    "        u_temp, ei_temp= EigenvalueFinders.illinois_eigenvalue_finder_v((E_guess_min, E_guess_max), V_effe, \n",
    "        grid_stru,InitialConditions.atom_v, l=i_orbi.l);\n",
    "        #Update eigenvalue and eigenfunction in the basis set data structure.\n",
    "        i_orbi.E=ei_temp;\n",
    "        i_orbi.u=u_temp;\n",
    "        E_eigen+= i_orbi.occu*ei_temp;\n",
    "        #println(i_orbi.E)\n",
    "        #println(\"--------------------------------\")\n",
    "\n",
    "    end\n",
    "    #Update E_total_before from the E_total from the previous step.\n",
    "    E_total_before= float(E_total);\n",
    "    #Calculate density with new basis set.\n",
    "    density_out= Density.calculate_density(basis);\n",
    "    #Smooth the density with linear mixing (combination) of the previous and current densities.\n",
    "    density_in= Density.linear_mixing(density_in, density_out, alpha=0.10);\n",
    "    #Solve Poisson equation to find the new Hartree potential.\n",
    "    V_hartree= odpes.solver_v_return_V_hartree(Z, density_in, grid_stru);\n",
    "    #Calculate new exchange and correlation potentials.\n",
    "    V_x, E_xp, V_c, E_cp= ExchangeCorrelation.potentials(density_in);\n",
    "    #Add exchange and correlation potentials.\n",
    "    V_xcp= V_x .+ V_c;\n",
    "    #Integrals to calculate energy components.\n",
    "    V_xc= (4.0*pi)*MathUtils.integral((V_xcp.*density_in.*grid_sqrt.*c_i), grid_i);\n",
    "    E_hartree= 0.5*(4.0*pi)*(MathUtils.integral((V_hartree.*density_in.*grid_sqrt.*c_i), grid_i));\n",
    "    E_x= (4.0*pi)*MathUtils.integral((E_xp.*density_in.*grid_sqrt.*c_i), grid_i);\n",
    "    E_c= (4.0*pi)*MathUtils.integral((E_cp.*density_in.*grid_sqrt.*c_i), grid_i);\n",
    "    #C_in= (4.0*pi)*MathUtils.integral((density_in.*grid_sqrt), grid)\n",
    "    #C_out= (4.0*pi)*MathUtils.integral((density_out.*grid_sqrt), grid)\n",
    "    #Calculate total energy.\n",
    "    E_total= E_eigen - E_hartree + E_x + E_c - V_xc;\n",
    "\n",
    "    #println(\"*****************************************\")\n",
    "end\n",
    "println(\"E_hartree \", E_hartree)\n",
    "println(\"E_x + E_c \", (E_x + E_c))\n",
    "println(\"E_total \", E_total)\n",
    "for i_orbi in basis.orbitals\n",
    "    println(i_orbi.name)\n",
    "    println(i_orbi.E)\n",
    "end"
   ]
  },
  {
   "cell_type": "code",
   "execution_count": 9,
   "metadata": {},
   "outputs": [
    {
     "name": "stdout",
     "output_type": "stream",
     "text": [
      "1s\n",
      "2.0\n",
      "2s\n",
      "2.0\n",
      "2p\n",
      "6.0\n",
      "3s\n",
      "2.0\n",
      "3p\n",
      "6.0\n"
     ]
    }
   ],
   "source": [
    "for i_orbi in basis.orbitals\n",
    "    println(i_orbi.name)\n",
    "    println(i_orbi.occu)\n",
    "end"
   ]
  },
  {
   "cell_type": "code",
   "execution_count": null,
   "metadata": {},
   "outputs": [],
   "source": []
  }
 ],
 "metadata": {
  "kernelspec": {
   "display_name": "Julia 1.8.2",
   "language": "julia",
   "name": "julia-1.8"
  },
  "language_info": {
   "file_extension": ".jl",
   "mimetype": "application/julia",
   "name": "julia",
   "version": "1.8.2"
  }
 },
 "nbformat": 4,
 "nbformat_minor": 2
}
