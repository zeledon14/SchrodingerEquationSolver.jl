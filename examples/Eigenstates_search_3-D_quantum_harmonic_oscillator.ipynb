{
 "cells": [
  {
   "cell_type": "markdown",
   "metadata": {},
   "source": [
    "# Eigenstates search 1-D quantum harmonic oscillator"
   ]
  },
  {
   "cell_type": "code",
   "execution_count": 1,
   "metadata": {},
   "outputs": [
    {
     "name": "stderr",
     "output_type": "stream",
     "text": [
      "\u001b[32m\u001b[1m  Activating\u001b[22m\u001b[39m project at `~/Desktop/physics_coding_projects/julia/SchrodingerEquationSolver`\n"
     ]
    }
   ],
   "source": [
    "using Pkg;\n",
    "Pkg.activate(\"../../SchrodingerEquationSolver\");\n",
    "include(\"../src/SchrodingerEquationSolver.jl\");\n",
    "import .SchrodingerEquationSolver as ses\n",
    "import .ses.Grids as Grids\n",
    "import .ses.Potentials as Potentials\n",
    "import .ses.MathUtils as MathUtils\n",
    "import .ses.Hydrogen as Hydrogen\n",
    "import .ses.InitialConditions as InitialConditions\n",
    "import .ses.OneDSchrodingerEquationSolver as odses\n",
    "import .ses.EigenvalueFinders as EigenvalueFinders\n",
    "using Plots"
   ]
  },
  {
   "cell_type": "code",
   "execution_count": 2,
   "metadata": {},
   "outputs": [
    {
     "name": "stdout",
     "output_type": "stream",
     "text": [
      "grid size 6660"
     ]
    }
   ],
   "source": [
    "#Define parameters and produce an exponential grid.\n",
    "r_max::Float64=10.0;#Max radius of space grid.\n",
    "Z::Int64=2;#Atomic number, also used as the charge of coulomb potential.\n",
    "#Z is just to control the size of the grid\n",
    "grid= ses.Grids.exponential_grid(r_max, Z);\n",
    "grid_sqrt= grid.^2.0; \n",
    "N= size(grid)[1]; #Number of points in the grid.\n",
    "print(\"grid size \", N)"
   ]
  },
  {
   "cell_type": "markdown",
   "metadata": {},
   "source": [
    "### Quantum harmonic oscillator potential \n",
    "m: mass of the particle. \\\n",
    "w: angular frequency of the oscillator. \\\n",
    "r: grid points.\n",
    "\n",
    "$\\frac{1}{2} m w^2 r^2$"
   ]
  },
  {
   "cell_type": "code",
   "execution_count": 3,
   "metadata": {},
   "outputs": [],
   "source": [
    "w::Float64=1;\n",
    "m::Float64=1;\n",
    "l::Int64=1;\n",
    "v_harm= Potentials.harmoic_oscilator_potential(w,m,grid); #the list with the quantum harmonic oscillator potential\n",
    "V_angu= Potentials.angular_potential(l, grid);\n",
    "v_effe= v_harm + V_angu;"
   ]
  },
  {
   "cell_type": "code",
   "execution_count": 4,
   "metadata": {},
   "outputs": [],
   "source": [
    "#Energy grid definition and creation. The system searches the energy grid for potential \n",
    "#values for the eigenvalues of the Schrodinger equation \n",
    "E_max::Float64=4.7; #Maximal energy in the energy grid.\n",
    "E_min::Float64=1.4; #Minimal energy in the energy grid.\n",
    "E_N::Int64=200; #Number of points in the energy grid.\n",
    "E_grid= Grids.uniform_grid(E_min, E_max, E_N); #List with the energy grid points."
   ]
  },
  {
   "cell_type": "code",
   "execution_count": 12,
   "metadata": {},
   "outputs": [
    {
     "data": {
      "text/plain": [
       "6660-element Vector{Float64}:\n",
       "  3.9913037138106776e16\n",
       "  9.955282627481352e15\n",
       "  4.414377818060227e15\n",
       "  2.477365403225211e15\n",
       "  1.5818587413142628e15\n",
       "  1.095979621171516e15\n",
       "  8.03351830521231e14\n",
       "  6.136466920164256e14\n",
       "  4.837371839373155e14\n",
       "  3.9092210281484744e14\n",
       "  ⋮\n",
       " 48.323393693341316\n",
       " 48.54648639277338\n",
       " 48.77060991415067\n",
       " 48.99576901644576\n",
       " 49.22196848062047\n",
       " 49.44921310972783\n",
       " 49.67750772901311\n",
       " 49.90685718601674\n",
       " 50.13726635067777"
      ]
     },
     "metadata": {},
     "output_type": "display_data"
    }
   ],
   "source": [
    "v_effe"
   ]
  },
  {
   "cell_type": "code",
   "execution_count": 6,
   "metadata": {},
   "outputs": [
    {
     "ename": "DomainError",
     "evalue": "DomainError with the effective potential has no turning points \n        for the proposed energy eigenvalue, this means v_effe - E has no zeroes:\n",
     "output_type": "error",
     "traceback": [
      "DomainError with the effective potential has no turning points \n",
      "        for the proposed energy eigenvalue, this means v_effe - E has no zeroes:\n",
      "\n",
      "\n",
      "Stacktrace:\n",
      " [1] solver(E::Float64, init_valu1_fwrd::Float64, init_valu2_fwrd::Float64, init_valu1_bwrd::Float64, init_valu2_bwrd::Float64, v_effe::Vector{Float64}, grid::Vector{Float64}, integrador_type::String)\n",
      "   @ Main.SchrodingerEquationSolver.OneDSchrodingerEquationSolver ~/Desktop/physics_coding_projects/julia/SchrodingerEquationSolver/src/OneDSchrodingerEquationSolver.jl:42\n",
      " [2] find_eigenvalue_intervals(energy_grid::Vector{Float64}, v_effe::Vector{Float64}, grid::Vector{Float64}, initial_condition_function::typeof(Main.SchrodingerEquationSolver.InitialConditions.atom); l::Int64, integrador_type::String)\n",
      "   @ Main.SchrodingerEquationSolver.EigenvalueFinders ~/Desktop/physics_coding_projects/julia/SchrodingerEquationSolver/src/EigenvalueFinders.jl:35\n",
      " [3] find_eigenvalue_intervals(energy_grid::Vector{Float64}, v_effe::Vector{Float64}, grid::Vector{Float64}, initial_condition_function::Function)\n",
      "   @ Main.SchrodingerEquationSolver.EigenvalueFinders ~/Desktop/physics_coding_projects/julia/SchrodingerEquationSolver/src/EigenvalueFinders.jl:24\n",
      " [4] top-level scope\n",
      "   @ ~/Desktop/physics_coding_projects/julia/SchrodingerEquationSolver/examples/Eigenstates_search_3-D_quantum_harmonic_oscillator.ipynb:3"
     ]
    }
   ],
   "source": [
    "#Search the energy grid, for intervals with promising eigenvalues, the fictitious_intervals, holds intervals\n",
    "#resulting from matching forward and backward integrations.\n",
    "E_intervals, bad_intervals= EigenvalueFinders.find_eigenvalue_intervals(E_grid, v_effe, grid,\n",
    "                                                                        InitialConditions.atom);"
   ]
  },
  {
   "cell_type": "code",
   "execution_count": 7,
   "metadata": {},
   "outputs": [],
   "source": []
  },
  {
   "cell_type": "code",
   "execution_count": 8,
   "metadata": {},
   "outputs": [
    {
     "ename": "UndefVarError",
     "evalue": "UndefVarError: E_intervals not defined",
     "output_type": "error",
     "traceback": [
      "UndefVarError: E_intervals not defined\n",
      "\n",
      "Stacktrace:\n",
      " [1] top-level scope\n",
      "   @ ~/Desktop/physics_coding_projects/julia/SchrodingerEquationSolver/examples/Eigenstates_search_3-D_quantum_harmonic_oscillator.ipynb:1"
     ]
    }
   ],
   "source": [
    "numb_solu::Int64= size(E_intervals)[1]; #Number of potential solutions in the energy grid.\n",
    "eigen_list::Vector{Float64}=zeros(numb_solu); #Initializing the list that is going to hold the energy eigenvalues.\n",
    "u_wave_functions::Vector{Vector{Float64}}= [zeros(N) for _ in 1:numb_solu]; #Initializing the list that holds the eigenfunctions list."
   ]
  },
  {
   "cell_type": "code",
   "execution_count": 9,
   "metadata": {},
   "outputs": [
    {
     "ename": "UndefVarError",
     "evalue": "UndefVarError: E_intervals not defined",
     "output_type": "error",
     "traceback": [
      "UndefVarError: E_intervals not defined\n",
      "\n",
      "Stacktrace:\n",
      " [1] top-level scope\n",
      "   @ ~/Desktop/physics_coding_projects/julia/SchrodingerEquationSolver/examples/Eigenstates_search_3-D_quantum_harmonic_oscillator.ipynb:2"
     ]
    }
   ],
   "source": [
    "#Using Illinois algorithm to find the actual energy eigenvalue and eigenfunction for everyone of the energy intervals.\n",
    "for (i, ei_interval) in enumerate(E_intervals)\n",
    "    u_temp, ei_temp= EigenvalueFinders.illinois_eigenvalue_finder(ei_interval, v_effe, grid,InitialConditions.atom);\n",
    "    u_wave_functions[i]=u_temp;\n",
    "    eigen_list[i]= ei_temp;\n",
    "end"
   ]
  },
  {
   "cell_type": "code",
   "execution_count": 10,
   "metadata": {},
   "outputs": [
    {
     "ename": "UndefVarError",
     "evalue": "UndefVarError: eigen_list not defined",
     "output_type": "error",
     "traceback": [
      "UndefVarError: eigen_list not defined\n"
     ]
    }
   ],
   "source": [
    "#Printing the energies\n",
    "eigen_list"
   ]
  },
  {
   "cell_type": "code",
   "execution_count": 11,
   "metadata": {},
   "outputs": [
    {
     "ename": "UndefVarError",
     "evalue": "UndefVarError: u_wave_functions not defined",
     "output_type": "error",
     "traceback": [
      "UndefVarError: u_wave_functions not defined\n",
      "\n",
      "Stacktrace:\n",
      " [1] top-level scope\n",
      "   @ ~/Desktop/physics_coding_projects/julia/SchrodingerEquationSolver/examples/Eigenstates_search_3-D_quantum_harmonic_oscillator.ipynb:2"
     ]
    }
   ],
   "source": [
    "#Plot of the wave functions\n",
    "plot!(grid, u_wave_functions)\n",
    "plot!(size=(900,400))"
   ]
  },
  {
   "cell_type": "code",
   "execution_count": null,
   "metadata": {},
   "outputs": [],
   "source": []
  },
  {
   "cell_type": "code",
   "execution_count": null,
   "metadata": {},
   "outputs": [],
   "source": []
  },
  {
   "cell_type": "code",
   "execution_count": null,
   "metadata": {},
   "outputs": [],
   "source": []
  }
 ],
 "metadata": {
  "kernelspec": {
   "display_name": "Julia 1.8.2",
   "language": "julia",
   "name": "julia-1.8"
  },
  "language_info": {
   "file_extension": ".jl",
   "mimetype": "application/julia",
   "name": "julia",
   "version": "1.8.2"
  },
  "orig_nbformat": 4
 },
 "nbformat": 4,
 "nbformat_minor": 2
}
